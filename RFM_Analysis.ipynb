{
 "cells": [
  {
   "cell_type": "code",
   "execution_count": 2,
   "id": "54e5bad9-217a-41e0-b675-7a5c1d9abde9",
   "metadata": {},
   "outputs": [],
   "source": [
    "import mysql.connector\n",
    "\n",
    "mydb = mysql.connector.connect(host = 'localhost',\n",
    "                               user = 'root',\n",
    "                               password = '725@Mysql')\n",
    "\n",
    "cur = mydb.cursor()"
   ]
  },
  {
   "cell_type": "code",
   "execution_count": 3,
   "id": "8c70bd05-2735-4f52-90ca-50669c2ed2ad",
   "metadata": {},
   "outputs": [],
   "source": [
    "query = \"create database if not exists ecommerce\"\n",
    "cur.execute(query)"
   ]
  },
  {
   "cell_type": "code",
   "execution_count": 4,
   "id": "f9f7949c-23b6-4355-868e-1ec414fe55e2",
   "metadata": {},
   "outputs": [
    {
     "data": {
      "text/plain": [
       "True"
      ]
     },
     "execution_count": 4,
     "metadata": {},
     "output_type": "execute_result"
    }
   ],
   "source": [
    "mydb = mysql.connector.connect(host = 'localhost',\n",
    "                               user = 'root',\n",
    "                               password = '725@Mysql',\n",
    "                               database = \"ecommerce\" )\n",
    "\n",
    "cur = mydb.cursor()\n",
    "\n",
    "query = \"\"\"\n",
    "create table if not exists customers(\n",
    "customer_id int primary key,\n",
    "name varchar(30)\n",
    ")\n",
    "\"\"\"\n",
    "\n",
    "cur.execute(query)\n",
    "mydb.commit()\n",
    "cur.close()"
   ]
  },
  {
   "cell_type": "code",
   "execution_count": 5,
   "id": "014f053f-097d-4cf1-a002-a5898578766e",
   "metadata": {},
   "outputs": [
    {
     "data": {
      "text/plain": [
       "True"
      ]
     },
     "execution_count": 5,
     "metadata": {},
     "output_type": "execute_result"
    }
   ],
   "source": [
    "mydb = mysql.connector.connect(host = 'localhost',\n",
    "                               user = 'root',\n",
    "                               password = '725@Mysql',\n",
    "                               database = \"ecommerce\" )\n",
    "\n",
    "cur = mydb.cursor()\n",
    "\n",
    "query = \"\"\"\n",
    "create table if not exists orders(\n",
    "order_id int primary key,\n",
    "customer_id int,\n",
    "order_date DATE,\n",
    "amount decimal(10,2),\n",
    "foreign key (customer_id) references customers(customer_id)\n",
    ")\n",
    "\"\"\"\n",
    "\n",
    "cur.execute(query)\n",
    "mydb.commit()\n",
    "cur.close()"
   ]
  },
  {
   "cell_type": "code",
   "execution_count": 6,
   "id": "5959f68b-003e-418f-8c95-265438bc4624",
   "metadata": {},
   "outputs": [
    {
     "data": {
      "text/plain": [
       "True"
      ]
     },
     "execution_count": 6,
     "metadata": {},
     "output_type": "execute_result"
    }
   ],
   "source": [
    "mydb = mysql.connector.connect(host = 'localhost',\n",
    "                               user = 'root',\n",
    "                               password = '725@Mysql',\n",
    "                               database = \"ecommerce\" )\n",
    "\n",
    "cur = mydb.cursor()\n",
    "\n",
    "query = \"\"\"\n",
    "insert into customers (customer_id,name) values\n",
    "(1,\"Rahul\") , (2,\"Amit\") , (3,\"Abhay\") , (3,\"Ramesh\") on duplicate key update name = values(name)\n",
    "\"\"\"\n",
    "cur.execute(query)\n",
    "mydb.commit()\n",
    "cur.close()"
   ]
  },
  {
   "cell_type": "code",
   "execution_count": 7,
   "id": "8e83cb98-1177-4f72-b370-381f5054af31",
   "metadata": {},
   "outputs": [
    {
     "name": "stdout",
     "output_type": "stream",
     "text": [
      "(1, 'Rahul')\n",
      "(2, 'Amit')\n",
      "(3, 'Ramesh')\n"
     ]
    },
    {
     "data": {
      "text/plain": [
       "True"
      ]
     },
     "execution_count": 7,
     "metadata": {},
     "output_type": "execute_result"
    }
   ],
   "source": [
    "mydb = mysql.connector.connect(host = 'localhost',\n",
    "                               user = 'root',\n",
    "                               password = '725@Mysql',\n",
    "                               database = \"ecommerce\" )\n",
    "\n",
    "cur = mydb.cursor()\n",
    "\n",
    "query = \"\"\"\n",
    "select * from customers\n",
    "\"\"\"\n",
    "cur.execute(query)\n",
    "result = cur.fetchall()\n",
    "for customer in result:\n",
    "    print(customer)\n",
    "\n",
    "mydb.commit()\n",
    "cur.close()"
   ]
  },
  {
   "cell_type": "code",
   "execution_count": 10,
   "id": "d8fce67d-d64f-421d-a30d-15f977bbc16b",
   "metadata": {},
   "outputs": [
    {
     "data": {
      "text/plain": [
       "True"
      ]
     },
     "execution_count": 10,
     "metadata": {},
     "output_type": "execute_result"
    }
   ],
   "source": [
    "mydb = mysql.connector.connect(host = 'localhost',\n",
    "                               user = 'root',\n",
    "                               password = '725@Mysql',\n",
    "                               database = \"ecommerce\" )\n",
    "\n",
    "cur = mydb.cursor()\n",
    "\n",
    "query = \"\"\"\n",
    "insert into orders(order_id,customer_id,order_date,amount) values\n",
    "(101,1,'2024-01-01',120.0),\n",
    "(102,1,'2024-02-05',180.0),\n",
    "(103,2,'2024-01-10',75.0),\n",
    "(104,3,'2024-03-01',150.0),\n",
    "(105,2,'2024-03-15',200.0),\n",
    "(106,1,'2024-04-01',100.0)\n",
    "\"\"\"\n",
    "\n",
    "cur.execute(query)\n",
    "\n",
    "mydb.commit()\n",
    "cur.close()"
   ]
  },
  {
   "cell_type": "code",
   "execution_count": 11,
   "id": "9a4a726e-0ee0-43e0-b47f-781f3d8ec7cc",
   "metadata": {},
   "outputs": [
    {
     "name": "stdout",
     "output_type": "stream",
     "text": [
      "(101, 1, datetime.date(2024, 1, 1), Decimal('120.00'))\n",
      "(102, 1, datetime.date(2024, 2, 5), Decimal('180.00'))\n",
      "(103, 2, datetime.date(2024, 1, 10), Decimal('75.00'))\n",
      "(104, 3, datetime.date(2024, 3, 1), Decimal('150.00'))\n",
      "(105, 2, datetime.date(2024, 3, 15), Decimal('200.00'))\n",
      "(106, 1, datetime.date(2024, 4, 1), Decimal('100.00'))\n"
     ]
    },
    {
     "data": {
      "text/plain": [
       "True"
      ]
     },
     "execution_count": 11,
     "metadata": {},
     "output_type": "execute_result"
    }
   ],
   "source": [
    "mydb = mysql.connector.connect(host = 'localhost',\n",
    "                               user = 'root',\n",
    "                               password = '725@Mysql',\n",
    "                               database = \"ecommerce\" )\n",
    "\n",
    "cur = mydb.cursor()\n",
    "\n",
    "query = \"\"\"\n",
    "select * from orders\n",
    "\"\"\"\n",
    "cur.execute(query)\n",
    "result = cur.fetchall()\n",
    "for order in result:\n",
    "    print(order)\n",
    "\n",
    "mydb.commit()\n",
    "cur.close()"
   ]
  },
  {
   "cell_type": "code",
   "execution_count": 65,
   "id": "9b884bfa-73e8-4fff-b5ee-73ddfeb2be6d",
   "metadata": {},
   "outputs": [
    {
     "name": "stdout",
     "output_type": "stream",
     "text": [
      "(1, datetime.date(2024, 1, 1), datetime.date(2024, 4, 1))\n",
      "(2, datetime.date(2024, 1, 10), datetime.date(2024, 3, 15))\n",
      "(3, datetime.date(2024, 3, 1), datetime.date(2024, 3, 1))\n"
     ]
    }
   ],
   "source": [
    "query = \"\"\"\n",
    "select customer_id , min(order_date),max(order_date) from orders group by customer_id\n",
    "\"\"\"\n",
    "cur.execute(query)\n",
    "result = cur.fetchall()\n",
    "\n",
    "for res in result:\n",
    "    print(res)"
   ]
  },
  {
   "cell_type": "markdown",
   "id": "504cbf54-4c0b-4cfc-a7a9-ba5345addc8d",
   "metadata": {},
   "source": [
    "**Calculate RFM Metrics**"
   ]
  },
  {
   "cell_type": "code",
   "execution_count": 36,
   "id": "dc574e4c-bd41-470f-9cfd-c061cd21cf81",
   "metadata": {},
   "outputs": [],
   "source": [
    "mydb = mysql.connector.connect(host = 'localhost',\n",
    "                               user = 'root',\n",
    "                               password = '725@Mysql',\n",
    "                               database = \"ecommerce\" )\n",
    "\n",
    "cur = mydb.cursor()\n",
    "\n",
    "query = \"\"\"\n",
    "create temporary table temp_recency as\n",
    "select customer_id, DATEDIFF(curdate() , max(order_date)) as recency\n",
    "from orders\n",
    "group by customer_id\n",
    "\"\"\"\n",
    "\n",
    "cur.execute(query)"
   ]
  },
  {
   "cell_type": "code",
   "execution_count": 37,
   "id": "38940de1-c23f-43bc-86e3-29fabc5c3012",
   "metadata": {},
   "outputs": [
    {
     "name": "stdout",
     "output_type": "stream",
     "text": [
      "(1, 84)\n",
      "(2, 101)\n",
      "(3, 115)\n"
     ]
    }
   ],
   "source": [
    "query = \"select * from temp_recency\"\n",
    "\n",
    "cur.execute(query)\n",
    "\n",
    "result = cur.fetchall()\n",
    "for res in result:\n",
    "    print(res)"
   ]
  },
  {
   "cell_type": "code",
   "execution_count": 38,
   "id": "9fff8140-f699-4368-8435-5fef57371cc3",
   "metadata": {},
   "outputs": [],
   "source": [
    "query = \"\"\"\n",
    "create temporary table temp_frequency as\n",
    "select customer_id, count(order_id) as frequency\n",
    "from orders\n",
    "group by customer_id\n",
    "\"\"\"\n",
    "\n",
    "cur.execute(query)"
   ]
  },
  {
   "cell_type": "code",
   "execution_count": 39,
   "id": "3e298de7-d415-4902-97d9-6f51b532fb33",
   "metadata": {},
   "outputs": [
    {
     "name": "stdout",
     "output_type": "stream",
     "text": [
      "(1, 3)\n",
      "(2, 2)\n",
      "(3, 1)\n"
     ]
    }
   ],
   "source": [
    "query = \"select * from temp_frequency\"\n",
    "\n",
    "cur.execute(query)\n",
    "\n",
    "result = cur.fetchall()\n",
    "for res in result:\n",
    "    print(res)"
   ]
  },
  {
   "cell_type": "code",
   "execution_count": 40,
   "id": "f7b4d81f-3639-45d0-b5ef-9c259a607725",
   "metadata": {},
   "outputs": [],
   "source": [
    "query = \"\"\"\n",
    "create temporary table temp_monetary as\n",
    "select customer_id, sum(amount) as monetary\n",
    "from orders\n",
    "group by customer_id\n",
    "\"\"\"\n",
    "\n",
    "cur.execute(query)"
   ]
  },
  {
   "cell_type": "code",
   "execution_count": 41,
   "id": "17725937-4541-47db-a509-f20697c9a835",
   "metadata": {},
   "outputs": [
    {
     "name": "stdout",
     "output_type": "stream",
     "text": [
      "(1, Decimal('400.00'))\n",
      "(2, Decimal('275.00'))\n",
      "(3, Decimal('150.00'))\n"
     ]
    }
   ],
   "source": [
    "query = \"select * from temp_monetary\"\n",
    "\n",
    "cur.execute(query)\n",
    "\n",
    "result = cur.fetchall()\n",
    "for res in result:\n",
    "    print(res)"
   ]
  },
  {
   "cell_type": "code",
   "execution_count": 42,
   "id": "1011e3f4-2368-4165-83fe-b2a8e6b7c276",
   "metadata": {},
   "outputs": [],
   "source": [
    "query = \"\"\"\n",
    "\n",
    "create temporary table temp_rfms as \n",
    "select r.customer_id, r.recency, f.frequency, m.monetary\n",
    "from temp_recency r\n",
    "join temp_frequency f on r.customer_id = f.customer_id\n",
    "join temp_monetary m on r.customer_id = m.customer_id\n",
    "\n",
    "\"\"\"\n",
    "cur.execute(query)\n"
   ]
  },
  {
   "cell_type": "code",
   "execution_count": 43,
   "id": "792cc5c7-3e33-4197-8f90-e7b3d37a4d45",
   "metadata": {},
   "outputs": [
    {
     "name": "stdout",
     "output_type": "stream",
     "text": [
      "(1, 84, 3, Decimal('400.00'))\n",
      "(2, 101, 2, Decimal('275.00'))\n",
      "(3, 115, 1, Decimal('150.00'))\n"
     ]
    }
   ],
   "source": [
    "query = \"select * from temp_rfms\"\n",
    "\n",
    "cur.execute(query)\n",
    "\n",
    "result = cur.fetchall()\n",
    "for res in result:\n",
    "    print(res)\n",
    "\n"
   ]
  },
  {
   "cell_type": "markdown",
   "id": "0dffbc43-e101-4533-b53c-5a76ea726a4d",
   "metadata": {},
   "source": [
    "**Segment customers based on RFMS scores**"
   ]
  },
  {
   "cell_type": "code",
   "execution_count": 45,
   "id": "787837dd-877a-4ca9-848a-a3f3acb639ed",
   "metadata": {},
   "outputs": [],
   "source": [
    "query = \"\"\"\n",
    "create temporary table temp_recency_score as\n",
    "select customer_id, recency,\n",
    "case\n",
    "    when recency <= 30 then 5\n",
    "    when recency <= 60 then 4\n",
    "    when recency <= 90 then 3\n",
    "    when recency <= 120 then 2\n",
    "    else 1\n",
    "    end as recency_score\n",
    "from temp_recency\n",
    "\"\"\"\n",
    "cur.execute(query)"
   ]
  },
  {
   "cell_type": "code",
   "execution_count": 46,
   "id": "4e49b90e-ca1a-4e7b-b698-cd6fcb285eb0",
   "metadata": {},
   "outputs": [
    {
     "name": "stdout",
     "output_type": "stream",
     "text": [
      "(1, 84, 3)\n",
      "(2, 101, 2)\n",
      "(3, 115, 2)\n"
     ]
    }
   ],
   "source": [
    "query = \"select * from temp_recency_score\"\n",
    "\n",
    "cur.execute(query)\n",
    "\n",
    "result = cur.fetchall()\n",
    "for res in result:\n",
    "    print(res)"
   ]
  },
  {
   "cell_type": "code",
   "execution_count": 47,
   "id": "9a1eed80-d3aa-4229-9c9f-4f27bbaab5aa",
   "metadata": {},
   "outputs": [],
   "source": [
    "#Assign frequency score\n",
    "\n",
    "query = \"\"\"\n",
    "create temporary table temp_frequency_score as\n",
    "select customer_id, frequency,\n",
    "case\n",
    "    when frequency >= 10 then 5\n",
    "    when frequency >= 7 then 4\n",
    "    when frequency >= 4 then 3\n",
    "    when frequency >= 2 then 2\n",
    "    else 1\n",
    "    end as frequency_score\n",
    "from temp_frequency\n",
    "\"\"\"\n",
    "cur.execute(query)"
   ]
  },
  {
   "cell_type": "code",
   "execution_count": 48,
   "id": "7f212553-fe78-493f-8fa8-930d68204a14",
   "metadata": {},
   "outputs": [
    {
     "name": "stdout",
     "output_type": "stream",
     "text": [
      "(1, 3, 2)\n",
      "(2, 2, 2)\n",
      "(3, 1, 1)\n"
     ]
    }
   ],
   "source": [
    "query = \"select * from temp_frequency_score\"\n",
    "\n",
    "cur.execute(query)\n",
    "\n",
    "result = cur.fetchall()\n",
    "for res in result:\n",
    "    print(res)"
   ]
  },
  {
   "cell_type": "code",
   "execution_count": 49,
   "id": "be89e0f5-8327-4305-bba2-09d8d0c71d7b",
   "metadata": {},
   "outputs": [],
   "source": [
    "#Assign Monetary score\n",
    "\n",
    "\n",
    "query = \"\"\"\n",
    "create temporary table temp_monetary_score as\n",
    "select customer_id, monetary,\n",
    "case\n",
    "    when monetary >= 1000 then 5\n",
    "    when monetary >= 750 then 4\n",
    "    when monetary >= 500 then 3\n",
    "    when monetary >= 250 then 2\n",
    "    else 1\n",
    "    end as monetary_score\n",
    "from temp_monetary\n",
    "\"\"\"\n",
    "cur.execute(query)"
   ]
  },
  {
   "cell_type": "code",
   "execution_count": 50,
   "id": "79b479ad-d822-439e-8a7e-e683aa58f36a",
   "metadata": {},
   "outputs": [
    {
     "name": "stdout",
     "output_type": "stream",
     "text": [
      "(1, Decimal('400.00'), 2)\n",
      "(2, Decimal('275.00'), 2)\n",
      "(3, Decimal('150.00'), 1)\n"
     ]
    }
   ],
   "source": [
    "query = \"select * from temp_monetary_score\"\n",
    "\n",
    "cur.execute(query)\n",
    "\n",
    "result = cur.fetchall()\n",
    "for res in result:\n",
    "    print(res)"
   ]
  },
  {
   "cell_type": "code",
   "execution_count": 51,
   "id": "615e3f0b-48c0-4458-8b67-a74a1f82204d",
   "metadata": {},
   "outputs": [],
   "source": [
    "#Combine RFM scores\n",
    "\n",
    "query = \"\"\"\n",
    "create temporary table temp_rfm_scores as\n",
    "select r.customer_id, r.recency , r.recency_score,\n",
    "f.frequency,f.frequency_score,\n",
    "m.monetary,m.monetary_score,\n",
    "(r.recency_score + f.frequency_score + m.monetary_score)\n",
    "as total_rfm_score \n",
    "from temp_recency_score r\n",
    "join temp_frequency_score f on r.customer_id = f.customer_id\n",
    "join temp_monetary_score m on r.customer_id = m.customer_id\n",
    "\n",
    "\"\"\"\n",
    "cur.execute(query)"
   ]
  },
  {
   "cell_type": "code",
   "execution_count": 57,
   "id": "163871ab-f840-4812-98a0-447289510ce1",
   "metadata": {},
   "outputs": [
    {
     "name": "stdout",
     "output_type": "stream",
     "text": [
      "(1, 84, 3, 3, 2, Decimal('400.00'), 2, 7)\n",
      "(2, 101, 2, 2, 2, Decimal('275.00'), 2, 6)\n",
      "(3, 115, 2, 1, 1, Decimal('150.00'), 1, 4)\n"
     ]
    }
   ],
   "source": [
    "query = \"select * from temp_rfm_scores\"\n",
    "\n",
    "cur.execute(query)\n",
    "\n",
    "result = cur.fetchall()\n",
    "for res in result:\n",
    "    print(res)"
   ]
  },
  {
   "cell_type": "markdown",
   "id": "8c0e32f7-530e-4dd2-8178-d3e6119e1a8b",
   "metadata": {},
   "source": [
    "**Derive Insights**"
   ]
  },
  {
   "cell_type": "code",
   "execution_count": 61,
   "id": "60579066-3eb2-4b21-bc71-0126426b541d",
   "metadata": {},
   "outputs": [
    {
     "name": "stdout",
     "output_type": "stream",
     "text": [
      "(3, 115, 2, 1, 1, Decimal('150.00'), 1, 4)\n"
     ]
    }
   ],
   "source": [
    "#High Potential customer\n",
    "query = \"\"\"\n",
    "select * from temp_rfm_scores\n",
    "where total_rfm_score > 6\n",
    "\"\"\"\n",
    "\n",
    "cur.execute(query)\n",
    "\n",
    "best_customer = cur.fetchall()\n",
    "for customer in best_customer:\n",
    "    print(res)"
   ]
  },
  {
   "cell_type": "code",
   "execution_count": 62,
   "id": "530e323f-6d63-44cc-a936-c8584bcc0e64",
   "metadata": {},
   "outputs": [
    {
     "name": "stdout",
     "output_type": "stream",
     "text": [
      "(3, 115, 2, 1, 1, Decimal('150.00'), 1, 4)\n"
     ]
    }
   ],
   "source": [
    "#Customer at risk\n",
    "\n",
    "query = \"\"\"\n",
    "select * from temp_rfm_scores\n",
    "where total_rfm_score < 5\n",
    "\"\"\"\n",
    "\n",
    "cur.execute(query)\n",
    "\n",
    "customer_at_risk = cur.fetchall()\n",
    "for customer in customer_at_risk:\n",
    "    print(res)"
   ]
  },
  {
   "cell_type": "code",
   "execution_count": null,
   "id": "c5e394fe-27a9-49f4-8d76-880613f9c39e",
   "metadata": {},
   "outputs": [],
   "source": []
  }
 ],
 "metadata": {
  "kernelspec": {
   "display_name": "Python 3 (ipykernel)",
   "language": "python",
   "name": "python3"
  },
  "language_info": {
   "codemirror_mode": {
    "name": "ipython",
    "version": 3
   },
   "file_extension": ".py",
   "mimetype": "text/x-python",
   "name": "python",
   "nbconvert_exporter": "python",
   "pygments_lexer": "ipython3",
   "version": "3.9.0"
  }
 },
 "nbformat": 4,
 "nbformat_minor": 5
}
