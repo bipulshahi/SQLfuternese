{
 "cells": [
  {
   "cell_type": "code",
   "execution_count": 3,
   "id": "22ab4504-bebb-48a6-814a-19b997bdc0c7",
   "metadata": {},
   "outputs": [
    {
     "name": "stdout",
     "output_type": "stream",
     "text": [
      "84\n",
      "imdb database is created\n"
     ]
    }
   ],
   "source": [
    "import mysql.connector\n",
    "\n",
    "mydb = mysql.connector.connect(host = 'localhost',\n",
    "                               user = 'root',\n",
    "                               password = '725@Mysql')\n",
    "print(mydb.connection_id)\n",
    "\n",
    "#create database once we are connected with server\n",
    "cur = mydb.cursor()\n",
    "\n",
    "#query = \"drop database imdb\"\n",
    "query = \"create database imdb\"\n",
    "\n",
    "cur.execute(query)\n",
    "\n",
    "print(\"imdb database is created\")"
   ]
  },
  {
   "cell_type": "code",
   "execution_count": 4,
   "id": "fa2e8a42-e799-4116-97af-98e3c7a78a46",
   "metadata": {},
   "outputs": [
    {
     "name": "stdout",
     "output_type": "stream",
     "text": [
      "data table director_mapping is created\n"
     ]
    }
   ],
   "source": [
    "import mysql.connector\n",
    "\n",
    "mydb = mysql.connector.connect(host = 'localhost',\n",
    "                               user = 'root',\n",
    "                               password = '725@Mysql',\n",
    "                               database = 'imdb')\n",
    "\n",
    "cur = mydb.cursor()\n",
    "\n",
    "query = \"create table if not exists director_mapping (movie_id varchar(255) , name_id varchar(255))\"\n",
    "\n",
    "cur.execute(query)\n",
    "\n",
    "print(\"data table director_mapping is created\")"
   ]
  },
  {
   "cell_type": "code",
   "execution_count": 5,
   "id": "b000b21f-805c-4d46-bee0-e2f40e84c2c7",
   "metadata": {},
   "outputs": [
    {
     "name": "stdout",
     "output_type": "stream",
     "text": [
      "data table genre is created\n"
     ]
    }
   ],
   "source": [
    "mydb = mysql.connector.connect(host = 'localhost',\n",
    "                               user = 'root',\n",
    "                               password = '725@Mysql',\n",
    "                               database = 'imdb')\n",
    "\n",
    "cur = mydb.cursor()\n",
    "\n",
    "query = \"create table if not exists genre (movie_id varchar(255) , genre varchar(255))\"\n",
    "\n",
    "cur.execute(query)\n",
    "\n",
    "print(\"data table genre is created\")"
   ]
  },
  {
   "cell_type": "code",
   "execution_count": 6,
   "id": "a1652b2c-b172-4fee-ae39-8d1a98033a84",
   "metadata": {},
   "outputs": [
    {
     "name": "stdout",
     "output_type": "stream",
     "text": [
      "data table movies is created\n"
     ]
    }
   ],
   "source": [
    "mydb = mysql.connector.connect(host = 'localhost',\n",
    "                               user = 'root',\n",
    "                               password = '725@Mysql',\n",
    "                               database = 'imdb')\n",
    "\n",
    "cur = mydb.cursor()\n",
    "\n",
    "query = \"\"\"\n",
    "create table if not exists movies (id varchar(255) primary key, title varchar(255), year int, date_published DATE, duration int, \n",
    "country varchar(255), worlwide_gross_income varchar(255), languages\tvarchar(255), production_company varchar(255))\n",
    "\"\"\"\n",
    "\n",
    "cur.execute(query)\n",
    "\n",
    "print(\"data table movies is created\")"
   ]
  },
  {
   "cell_type": "code",
   "execution_count": 7,
   "id": "a385471f-82ab-4341-9103-c5b20b911197",
   "metadata": {},
   "outputs": [
    {
     "name": "stdout",
     "output_type": "stream",
     "text": [
      "data table names is created\n"
     ]
    }
   ],
   "source": [
    "mydb = mysql.connector.connect(host = 'localhost',\n",
    "                               user = 'root',\n",
    "                               password = '725@Mysql',\n",
    "                               database = 'imdb')\n",
    "\n",
    "cur = mydb.cursor()\n",
    "\n",
    "#query = \"drop table names\"\n",
    "\n",
    "query = \"\"\"\n",
    "create table if not exists names (id varchar(255) primary key, name varchar(255), height float, date_of_birth varchar(255), known_for_movies varchar(255))\n",
    "\"\"\"\n",
    "\n",
    "cur.execute(query)\n",
    "\n",
    "print(\"data table names is created\")"
   ]
  },
  {
   "cell_type": "code",
   "execution_count": 8,
   "id": "35fcad73-a8d9-443e-9e6b-937f92400aee",
   "metadata": {},
   "outputs": [
    {
     "name": "stdout",
     "output_type": "stream",
     "text": [
      "data table ratings is created\n"
     ]
    }
   ],
   "source": [
    "mydb = mysql.connector.connect(host = 'localhost',\n",
    "                               user = 'root',\n",
    "                               password = '725@Mysql',\n",
    "                               database = 'imdb')\n",
    "\n",
    "cur = mydb.cursor()\n",
    "\n",
    "query = \"\"\"\n",
    "create table if not exists ratings (movie_id varchar(255), avg_rating float, total_votes int, median_rating float)\n",
    "\"\"\"\n",
    "\n",
    "cur.execute(query)\n",
    "\n",
    "print(\"data table ratings is created\")"
   ]
  },
  {
   "cell_type": "code",
   "execution_count": 9,
   "id": "64fb4c0b-5c02-499b-acf1-69ddd10475bb",
   "metadata": {},
   "outputs": [
    {
     "name": "stdout",
     "output_type": "stream",
     "text": [
      "data table role_mapping is created\n"
     ]
    }
   ],
   "source": [
    "mydb = mysql.connector.connect(host = 'localhost',\n",
    "                               user = 'root',\n",
    "                               password = '725@Mysql',\n",
    "                               database = 'imdb')\n",
    "\n",
    "cur = mydb.cursor()\n",
    "\n",
    "#query = \"drop table role_mapping\"\n",
    "\n",
    "\n",
    "query = \"\"\"\n",
    "create table if not exists role_mapping (movie_id varchar(255), name_id varchar(255), category varchar(255))\n",
    "\"\"\"\n",
    "\n",
    "\n",
    "cur.execute(query)\n",
    "\n",
    "print(\"data table role_mapping is created\")"
   ]
  },
  {
   "cell_type": "code",
   "execution_count": 10,
   "id": "325106e8-a279-4e07-a1d5-c612a96ca5de",
   "metadata": {},
   "outputs": [
    {
     "name": "stdout",
     "output_type": "stream",
     "text": [
      "Requirement already satisfied: openpyxl in ./miniconda/lib/python3.12/site-packages (3.1.5)\n",
      "Requirement already satisfied: et-xmlfile in ./miniconda/lib/python3.12/site-packages (from openpyxl) (1.1.0)\n"
     ]
    }
   ],
   "source": [
    "!pip3 install openpyxl"
   ]
  },
  {
   "cell_type": "code",
   "execution_count": 11,
   "id": "39158a94-fce3-4383-8a27-97c657665c3c",
   "metadata": {},
   "outputs": [],
   "source": [
    "import pandas as pd"
   ]
  },
  {
   "cell_type": "code",
   "execution_count": 12,
   "id": "e0e189eb-f95a-4257-96fc-0e0f6c641787",
   "metadata": {},
   "outputs": [],
   "source": [
    "excel_file = '/Users/bipulkumar/Downloads/imdb.xlsx'\n",
    "\n",
    "df_director_mapping = pd.read_excel(excel_file , sheet_name = 'director_mapping')\n",
    "df_genre = pd.read_excel(excel_file , sheet_name = 'genre')\n",
    "df_movies = pd.read_excel(excel_file , sheet_name = 'movies')\n",
    "df_names = pd.read_excel(excel_file , sheet_name = 'names')\n",
    "df_ratings = pd.read_excel(excel_file , sheet_name = 'ratings')\n",
    "df_role_mapping = pd.read_excel(excel_file , sheet_name = 'role_mapping')\n"
   ]
  },
  {
   "cell_type": "code",
   "execution_count": 13,
   "id": "4ff57480-86c1-44b0-b87b-31ce6dfa93a4",
   "metadata": {},
   "outputs": [
    {
     "data": {
      "text/html": [
       "<div>\n",
       "<style scoped>\n",
       "    .dataframe tbody tr th:only-of-type {\n",
       "        vertical-align: middle;\n",
       "    }\n",
       "\n",
       "    .dataframe tbody tr th {\n",
       "        vertical-align: top;\n",
       "    }\n",
       "\n",
       "    .dataframe thead th {\n",
       "        text-align: right;\n",
       "    }\n",
       "</style>\n",
       "<table border=\"1\" class=\"dataframe\">\n",
       "  <thead>\n",
       "    <tr style=\"text-align: right;\">\n",
       "      <th></th>\n",
       "      <th>id</th>\n",
       "      <th>title</th>\n",
       "      <th>year</th>\n",
       "      <th>date_published</th>\n",
       "      <th>duration</th>\n",
       "      <th>country</th>\n",
       "      <th>worlwide_gross_income</th>\n",
       "      <th>languages</th>\n",
       "      <th>production_company</th>\n",
       "    </tr>\n",
       "  </thead>\n",
       "  <tbody>\n",
       "    <tr>\n",
       "      <th>0</th>\n",
       "      <td>tt0012494</td>\n",
       "      <td>Der müde Tod</td>\n",
       "      <td>2017</td>\n",
       "      <td>2017-06-09</td>\n",
       "      <td>97</td>\n",
       "      <td>Germany</td>\n",
       "      <td>$ 12156</td>\n",
       "      <td>German</td>\n",
       "      <td>Decla-Bioscop AG</td>\n",
       "    </tr>\n",
       "    <tr>\n",
       "      <th>1</th>\n",
       "      <td>tt0038733</td>\n",
       "      <td>A Matter of Life and Death</td>\n",
       "      <td>2017</td>\n",
       "      <td>2017-12-08</td>\n",
       "      <td>104</td>\n",
       "      <td>UK</td>\n",
       "      <td>$ 124241</td>\n",
       "      <td>English, French, Russian</td>\n",
       "      <td>The Archers</td>\n",
       "    </tr>\n",
       "    <tr>\n",
       "      <th>2</th>\n",
       "      <td>tt0361953</td>\n",
       "      <td>The Nest of the Cuckoo Birds</td>\n",
       "      <td>2017</td>\n",
       "      <td>2017-10-16</td>\n",
       "      <td>81</td>\n",
       "      <td>USA</td>\n",
       "      <td>NaN</td>\n",
       "      <td>English</td>\n",
       "      <td>Bert Williams Motion Pictures and Distributor</td>\n",
       "    </tr>\n",
       "    <tr>\n",
       "      <th>3</th>\n",
       "      <td>tt0235166</td>\n",
       "      <td>Against All Hope</td>\n",
       "      <td>2017</td>\n",
       "      <td>2017-10-20</td>\n",
       "      <td>90</td>\n",
       "      <td>USA</td>\n",
       "      <td>NaN</td>\n",
       "      <td>English</td>\n",
       "      <td>NaN</td>\n",
       "    </tr>\n",
       "    <tr>\n",
       "      <th>4</th>\n",
       "      <td>tt0337383</td>\n",
       "      <td>Vaikai is Amerikos viesbucio</td>\n",
       "      <td>2017</td>\n",
       "      <td>2017-03-09</td>\n",
       "      <td>88</td>\n",
       "      <td>Soviet Union</td>\n",
       "      <td>NaN</td>\n",
       "      <td>Lithuanian, Russian</td>\n",
       "      <td>Lietuvos Kinostudija</td>\n",
       "    </tr>\n",
       "  </tbody>\n",
       "</table>\n",
       "</div>"
      ],
      "text/plain": [
       "          id                         title  year date_published  duration  \\\n",
       "0  tt0012494                  Der müde Tod  2017     2017-06-09        97   \n",
       "1  tt0038733    A Matter of Life and Death  2017     2017-12-08       104   \n",
       "2  tt0361953  The Nest of the Cuckoo Birds  2017     2017-10-16        81   \n",
       "3  tt0235166              Against All Hope  2017     2017-10-20        90   \n",
       "4  tt0337383  Vaikai is Amerikos viesbucio  2017     2017-03-09        88   \n",
       "\n",
       "        country worlwide_gross_income                 languages  \\\n",
       "0       Germany               $ 12156                    German   \n",
       "1            UK              $ 124241  English, French, Russian   \n",
       "2           USA                   NaN                   English   \n",
       "3           USA                   NaN                   English   \n",
       "4  Soviet Union                   NaN       Lithuanian, Russian   \n",
       "\n",
       "                              production_company  \n",
       "0                               Decla-Bioscop AG  \n",
       "1                                    The Archers  \n",
       "2  Bert Williams Motion Pictures and Distributor  \n",
       "3                                            NaN  \n",
       "4                           Lietuvos Kinostudija  "
      ]
     },
     "execution_count": 13,
     "metadata": {},
     "output_type": "execute_result"
    }
   ],
   "source": [
    "df_movies.head()"
   ]
  },
  {
   "cell_type": "code",
   "execution_count": 14,
   "id": "ffb95b79-fa31-4e59-b259-bc2ac068492b",
   "metadata": {},
   "outputs": [
    {
     "data": {
      "text/plain": [
       "id                               object\n",
       "title                            object\n",
       "year                              int64\n",
       "date_published           datetime64[ns]\n",
       "duration                          int64\n",
       "country                          object\n",
       "worlwide_gross_income            object\n",
       "languages                        object\n",
       "production_company               object\n",
       "dtype: object"
      ]
     },
     "execution_count": 14,
     "metadata": {},
     "output_type": "execute_result"
    }
   ],
   "source": [
    "df_movies.dtypes"
   ]
  },
  {
   "cell_type": "code",
   "execution_count": 15,
   "id": "62f57044-942a-466a-b3fb-3bdb82ea52db",
   "metadata": {},
   "outputs": [],
   "source": [
    "df_movies['date_published'] = pd.to_datetime(df_movies['date_published']).dt.strftime('%Y-%m-%d')"
   ]
  },
  {
   "cell_type": "code",
   "execution_count": 16,
   "id": "6de144ab-91a8-490a-80c1-a91a2656ca71",
   "metadata": {},
   "outputs": [
    {
     "data": {
      "text/plain": [
       "array(['2017-06-09', '2017-12-08', '2017-10-16', '2017-10-20',\n",
       "       '2017-03-09', '2017-12-06', '2017-11-17', '2017-01-19',\n",
       "       '2017-02-17', '2017-01-01', '2017-01-27', '2017-01-12',\n",
       "       '2017-09-29', '2017-01-14', '2017-08-09', '2017-02-21',\n",
       "       '2017-07-08', '2017-06-11', '2017-04-16', '2017-03-21',\n",
       "       '2017-10-01', '2017-07-01', '2017-07-28', '2017-06-01',\n",
       "       '2017-09-15', '2017-01-10', '2017-11-23', '2017-11-01',\n",
       "       '2017-04-05', '2017-12-15', '2017-08-21', '2017-06-08',\n",
       "       '2017-11-04', '2017-02-15', '2017-02-01', '2017-10-08',\n",
       "       '2017-02-04', '2017-03-24', '2017-01-13', '2017-03-14',\n",
       "       '2017-01-02', '2017-04-12', '2017-02-22', '2017-06-20',\n",
       "       '2017-07-13', '2017-11-10', '2017-01-29', '2017-06-02',\n",
       "       '2017-05-12', '2017-04-14', '2017-10-10', '2017-07-04',\n",
       "       '2017-01-24', '2017-01-04', '2017-07-11', '2017-02-03',\n",
       "       '2017-05-10', '2017-03-15', '2017-01-26', '2017-03-03',\n",
       "       '2017-02-07', '2017-09-08', '2017-03-10', '2017-08-17',\n",
       "       '2017-03-28', '2017-05-28', '2017-09-19', '2017-07-05',\n",
       "       '2017-03-04', '2017-12-26', '2017-05-31', '2017-06-27',\n",
       "       '2017-08-04', '2017-03-30', '2017-04-28', '2017-03-16',\n",
       "       '2017-04-24', '2017-02-24', '2017-11-07', '2017-11-14',\n",
       "       '2017-07-03', '2017-10-27', '2017-06-30', '2017-03-31',\n",
       "       '2017-02-27', '2017-01-11', '2017-08-01', '2017-05-21',\n",
       "       '2017-10-06', '2017-07-29', '2017-03-13', '2017-06-06',\n",
       "       '2017-09-20', '2017-05-24', '2017-05-01', '2017-10-11',\n",
       "       '2017-05-19', '2017-03-01', '2017-04-21', '2017-01-06',\n",
       "       '2017-09-01', '2017-07-25', '2017-05-05', '2017-01-20',\n",
       "       '2017-02-23', '2017-01-15', '2017-04-07', '2017-02-10',\n",
       "       '2017-08-14', '2017-05-30', '2017-05-11', '2017-02-02',\n",
       "       '2017-06-07', '2017-05-08', '2017-08-25', '2017-02-25',\n",
       "       '2017-06-16', '2017-10-19', '2017-03-08', '2017-09-26',\n",
       "       '2017-04-04', '2017-05-18', '2017-09-22', '2017-09-14',\n",
       "       '2017-02-09', '2017-06-15', '2017-05-26', '2017-03-20',\n",
       "       '2017-04-18', '2017-03-18', '2017-09-02', '2017-04-27',\n",
       "       '2017-10-13', '2017-03-17', '2017-09-12', '2017-10-23',\n",
       "       '2017-08-15', '2017-04-11', '2017-06-23', '2017-04-25',\n",
       "       '2017-07-18', '2017-07-26', '2017-03-07', '2017-05-20',\n",
       "       '2017-05-16', '2017-08-22', '2017-03-23', '2017-04-13',\n",
       "       '2017-12-04', '2017-01-09', '2017-09-11', '2017-07-07',\n",
       "       '2017-05-22', '2017-08-23', '2017-03-29', '2017-04-19',\n",
       "       '2017-08-30', '2017-11-09', '2017-02-19', '2017-10-17',\n",
       "       '2017-12-28', '2017-03-22', '2017-01-05', '2017-02-28',\n",
       "       '2017-08-12', '2017-08-24', '2017-11-03', '2017-07-21',\n",
       "       '2017-11-20', '2017-09-13', '2017-06-14', '2017-07-16',\n",
       "       '2017-04-01', '2017-01-18', '2017-10-12', '2017-10-24',\n",
       "       '2017-11-16', '2017-02-08', '2017-01-25', '2017-01-28',\n",
       "       '2017-11-02', '2017-06-13', '2017-08-18', '2017-02-11',\n",
       "       '2017-09-07', '2017-12-22', '2017-05-04', '2017-08-13',\n",
       "       '2017-11-30', '2017-11-24', '2017-02-18', '2017-07-22',\n",
       "       '2017-04-06', '2017-10-25', '2017-08-10', '2017-08-03',\n",
       "       '2017-05-03', '2017-10-26', '2017-08-31', '2017-10-04',\n",
       "       '2017-05-25', '2017-04-26', '2017-12-07', '2017-01-07',\n",
       "       '2017-04-22', '2017-08-11', '2017-07-17', '2017-11-28',\n",
       "       '2017-05-29', '2017-12-01', '2017-09-30', '2017-11-08',\n",
       "       '2017-01-17', '2017-03-02', '2017-10-05', '2017-11-15',\n",
       "       '2017-11-21', '2017-07-24', '2017-08-02', '2017-12-20',\n",
       "       '2017-04-29', '2017-12-29', '2017-08-28', '2017-12-14',\n",
       "       '2017-10-31', '2017-12-21', '2017-10-22', '2017-05-02',\n",
       "       '2017-11-06', '2017-04-20', '2017-01-03', '2017-12-19',\n",
       "       '2017-10-02', '2017-02-05', '2017-05-15', '2017-09-27',\n",
       "       '2017-07-27', '2017-08-29', '2017-10-07', '2017-09-23',\n",
       "       '2017-12-13', '2017-09-05', '2017-08-08', '2017-05-09',\n",
       "       '2017-09-10', '2017-12-03', '2017-12-05', '2017-10-03',\n",
       "       '2017-12-25', '2017-08-26', '2017-07-06', '2017-04-15',\n",
       "       '2017-06-22', '2017-09-28', '2017-12-09', '2017-06-21',\n",
       "       '2017-07-14', '2017-10-30', '2017-02-14', '2017-04-23',\n",
       "       '2017-06-29', '2017-08-05', '2017-01-16', '2017-06-17',\n",
       "       '2017-12-30', '2017-06-28', '2017-06-26', '2017-05-13',\n",
       "       '2017-09-21', '2017-03-11', '2017-06-05', '2017-09-06',\n",
       "       '2017-11-13', '2017-03-12', '2017-07-12', '2017-02-16',\n",
       "       '2017-10-14', '2017-10-15', '2017-08-16', '2017-12-12',\n",
       "       '2017-03-25', '2017-10-21', '2017-10-18', '2017-08-07',\n",
       "       '2017-01-31', '2017-04-02', '2017-07-10', '2017-05-07',\n",
       "       '2017-08-20', '2017-07-20', '2017-02-26', '2017-12-10',\n",
       "       '2017-09-25', '2017-01-21', '2017-06-19', '2017-09-03',\n",
       "       '2017-09-16', '2017-03-27', '2017-07-19', '2017-10-09',\n",
       "       '2017-05-17', '2017-11-26', '2017-05-27', '2017-11-22',\n",
       "       '2017-03-06', '2017-06-10', '2017-07-15', '2017-06-12',\n",
       "       '2017-01-30', '2017-04-08', '2017-08-19', '2017-01-23',\n",
       "       '2017-11-29', '2017-10-28', '2017-09-17', '2017-09-04',\n",
       "       '2017-06-24', '2017-06-25', '2017-01-22', '2017-12-16',\n",
       "       '2017-04-10', '2017-09-24', '2017-07-02', '2017-09-09',\n",
       "       '2017-12-27', '2017-05-06', '2017-03-19', '2017-12-23',\n",
       "       '2017-10-29', '2017-11-11', '2017-04-03', '2017-11-12',\n",
       "       '2017-08-06', '2017-11-05', '2017-07-30', '2017-12-11',\n",
       "       '2017-12-18', '2017-11-18', '2018-06-08', '2018-08-22',\n",
       "       '2018-11-23', '2018-10-31', '2018-12-30', '2018-11-15',\n",
       "       '2018-01-01', '2018-05-24', '2018-01-15', '2018-01-22',\n",
       "       '2018-06-09', '2018-04-01', '2018-07-03', '2018-12-07',\n",
       "       '2018-11-13', '2018-11-21', '2018-12-25', '2018-07-09',\n",
       "       '2018-01-09', '2018-05-02', '2018-04-15', '2018-10-30',\n",
       "       '2018-04-13', '2018-08-13', '2018-12-28', '2018-01-31',\n",
       "       '2018-06-16', '2018-02-20', '2018-04-27', '2018-08-31',\n",
       "       '2018-03-06', '2018-05-11', '2018-01-02', '2018-06-22',\n",
       "       '2018-02-01', '2018-12-01', '2018-01-12', '2018-10-26',\n",
       "       '2018-11-16', '2018-02-27', '2018-05-18', '2018-12-14',\n",
       "       '2018-04-05', '2018-08-02', '2018-12-03', '2018-01-05',\n",
       "       '2018-02-06', '2018-07-06', '2018-07-16', '2018-06-19',\n",
       "       '2018-05-04', '2018-09-10', '2018-03-23', '2018-03-15',\n",
       "       '2018-03-22', '2018-08-14', '2018-02-23', '2018-04-18',\n",
       "       '2018-02-19', '2018-01-19', '2018-07-24', '2018-03-20',\n",
       "       '2018-01-23', '2018-01-03', '2018-02-13', '2018-02-09',\n",
       "       '2018-04-30', '2018-03-14', '2018-04-20', '2018-02-22',\n",
       "       '2018-01-10', '2018-06-21', '2018-04-04', '2018-09-21',\n",
       "       '2018-09-06', '2018-03-02', '2018-01-24', '2018-03-30',\n",
       "       '2018-05-03', '2018-02-16', '2018-04-17', '2018-03-09',\n",
       "       '2018-06-01', '2018-09-07', '2018-09-15', '2018-01-18',\n",
       "       '2018-04-06', '2018-03-16', '2018-07-13', '2018-12-11',\n",
       "       '2018-06-29', '2018-03-29', '2018-10-02', '2018-08-30',\n",
       "       '2018-07-27', '2018-10-11', '2018-08-03', '2018-02-17',\n",
       "       '2018-06-15', '2018-11-09', '2018-09-28', '2018-05-25',\n",
       "       '2018-05-17', '2018-10-16', '2018-06-13', '2018-10-25',\n",
       "       '2018-07-20', '2018-06-28', '2018-07-14', '2018-09-03',\n",
       "       '2018-07-21', '2018-06-17', '2018-09-11', '2018-01-16',\n",
       "       '2018-02-02', '2018-06-12', '2018-05-10', '2018-04-26',\n",
       "       '2018-05-22', '2018-01-26', '2018-07-10', '2018-05-08',\n",
       "       '2018-09-14', '2018-02-08', '2018-04-07', '2018-05-23',\n",
       "       '2018-10-05', '2018-11-02', '2018-09-01', '2018-10-01',\n",
       "       '2018-12-21', '2018-09-16', '2018-11-30', '2018-03-13',\n",
       "       '2018-09-26', '2018-02-15', '2018-06-27', '2018-04-12',\n",
       "       '2018-08-09', '2018-07-05', '2018-10-03', '2018-10-10',\n",
       "       '2018-01-25', '2018-03-27', '2018-10-18', '2018-10-09',\n",
       "       '2018-02-24', '2018-11-20', '2018-03-28', '2018-03-21',\n",
       "       '2018-04-23', '2018-02-14', '2018-10-12', '2018-05-31',\n",
       "       '2018-12-20', '2018-01-04', '2018-08-24', '2018-07-30',\n",
       "       '2018-07-25', '2018-09-24', '2018-05-01', '2018-04-11',\n",
       "       '2018-10-14', '2018-05-15', '2018-10-19', '2018-01-11',\n",
       "       '2018-03-01', '2018-10-07', '2018-07-31', '2018-03-07',\n",
       "       '2018-08-10', '2018-02-03', '2018-07-15', '2018-08-28',\n",
       "       '2018-07-12', '2018-02-28', '2018-03-08', '2018-10-04',\n",
       "       '2018-08-17', '2018-01-17', '2018-12-27', '2018-06-07',\n",
       "       '2018-04-28', '2018-01-13', '2018-08-23', '2018-11-25',\n",
       "       '2018-12-18', '2018-01-20', '2018-05-30', '2018-04-16',\n",
       "       '2018-02-10', '2018-04-03', '2018-07-19', '2018-09-13',\n",
       "       '2018-05-09', '2018-09-27', '2018-02-04', '2018-12-13',\n",
       "       '2018-08-16', '2018-06-23', '2018-04-19', '2018-06-20',\n",
       "       '2018-05-20', '2018-12-09', '2018-12-26', '2018-08-27',\n",
       "       '2018-05-19', '2018-04-22', '2018-12-12', '2018-12-08',\n",
       "       '2018-10-24', '2018-11-27', '2018-06-14', '2018-03-03',\n",
       "       '2018-04-24', '2018-09-25', '2018-01-27', '2018-08-15',\n",
       "       '2018-05-14', '2018-11-08', '2018-11-22', '2018-09-22',\n",
       "       '2018-07-07', '2018-07-11', '2018-12-04', '2018-09-18',\n",
       "       '2018-08-01', '2018-03-25', '2018-09-12', '2018-05-27',\n",
       "       '2018-01-29', '2018-09-05', '2018-11-06', '2018-11-14',\n",
       "       '2018-10-29', '2018-09-08', '2018-08-07', '2018-10-23',\n",
       "       '2018-07-01', '2018-09-09', '2018-03-12', '2018-11-07',\n",
       "       '2018-09-19', '2018-09-04', '2018-12-24', '2018-11-01',\n",
       "       '2018-08-25', '2018-10-17', '2018-05-16', '2018-08-11',\n",
       "       '2018-06-06', '2018-01-28', '2018-02-05', '2018-11-29',\n",
       "       '2018-07-17', '2018-08-29', '2018-07-18', '2018-10-21',\n",
       "       '2018-07-26', '2018-11-05', '2018-05-05', '2018-06-05',\n",
       "       '2018-10-22', '2018-12-15', '2018-09-30', '2018-11-24',\n",
       "       '2018-05-13', '2018-09-20', '2018-03-19', '2018-08-21',\n",
       "       '2018-03-10', '2018-04-14', '2018-10-06', '2018-05-28',\n",
       "       '2018-11-28', '2018-01-21', '2018-04-25', '2018-07-28',\n",
       "       '2018-04-10', '2018-07-04', '2018-09-23', '2018-01-06',\n",
       "       '2018-09-29', '2018-06-24', '2018-12-19', '2018-06-02',\n",
       "       '2018-03-11', '2018-02-21', '2018-11-12', '2018-06-26',\n",
       "       '2018-04-21', '2018-08-04', '2018-02-25', '2018-05-12',\n",
       "       '2018-11-11', '2018-11-19', '2018-12-05', '2018-09-17',\n",
       "       '2018-03-31', '2018-10-15', '2018-12-06', '2018-12-02',\n",
       "       '2018-04-08', '2018-06-10', '2018-08-08', '2018-03-17',\n",
       "       '2018-10-13', '2018-11-10', '2018-02-07', '2018-05-07',\n",
       "       '2018-10-28', '2018-11-17', '2018-06-30', '2018-12-31',\n",
       "       '2018-03-24', '2018-07-22', '2018-05-29', '2018-06-18',\n",
       "       '2018-11-03', '2018-08-05', '2018-08-20', '2018-08-18',\n",
       "       '2018-09-02', '2018-11-04', '2018-12-22', '2018-12-10',\n",
       "       '2018-12-29', '2019-03-09', '2019-01-02', '2019-02-22',\n",
       "       '2019-09-20', '2019-05-15', '2019-02-08', '2019-01-15',\n",
       "       '2019-07-11', '2019-03-22', '2019-05-17', '2019-06-06',\n",
       "       '2019-06-01', '2019-07-29', '2019-06-20', '2019-06-21',\n",
       "       '2019-05-01', '2019-02-13', '2019-09-06', '2019-06-11',\n",
       "       '2019-07-01', '2019-02-01', '2019-01-25', '2019-11-01',\n",
       "       '2019-10-15', '2019-05-14', '2019-09-04', '2019-11-07',\n",
       "       '2019-03-29', '2019-01-23', '2019-06-18', '2019-07-26',\n",
       "       '2019-01-11', '2019-11-22', '2019-04-05', '2019-09-19',\n",
       "       '2019-09-12', '2019-04-19', '2019-03-05', '2019-02-28',\n",
       "       '2019-07-12', '2019-06-07', '2019-01-01', '2019-01-18',\n",
       "       '2019-08-21', '2019-01-08', '2019-08-23', '2019-04-16',\n",
       "       '2019-05-24', '2019-05-10', '2019-05-03', '2019-01-12',\n",
       "       '2019-07-04', '2019-03-14', '2019-02-15', '2019-03-01',\n",
       "       '2019-02-12', '2019-01-16', '2019-08-08', '2019-07-18',\n",
       "       '2019-08-24', '2019-05-16', '2019-08-30', '2019-10-11',\n",
       "       '2019-05-06', '2019-07-09', '2019-04-18', '2019-02-26',\n",
       "       '2019-09-27', '2019-10-17', '2019-05-08', '2019-07-25',\n",
       "       '2019-07-19', '2019-09-13', '2019-01-04', '2019-06-25',\n",
       "       '2019-10-18', '2019-09-24', '2019-08-09', '2019-05-27',\n",
       "       '2019-03-13', '2019-08-29', '2019-08-02', '2019-03-15',\n",
       "       '2019-04-29', '2019-06-14', '2019-04-04', '2019-08-01',\n",
       "       '2019-07-17', '2019-01-10', '2019-01-24', '2019-10-25',\n",
       "       '2019-03-08', '2019-05-09', '2019-05-21', '2019-06-05',\n",
       "       '2019-09-15', '2019-07-22', '2019-04-12', '2019-03-12',\n",
       "       '2019-07-05', '2019-03-07', '2019-06-04', '2019-01-09',\n",
       "       '2019-08-12', '2019-02-05', '2019-01-30', '2019-04-25',\n",
       "       '2019-10-21', '2019-08-20', '2019-08-16', '2019-06-28',\n",
       "       '2019-05-28', '2019-03-28', '2019-09-03', '2019-04-26',\n",
       "       '2019-04-03', '2019-05-31', '2019-09-18', '2019-04-02',\n",
       "       '2019-02-07', '2019-10-02', '2019-02-14', '2019-01-17',\n",
       "       '2019-03-21', '2019-03-06', '2019-04-24', '2019-11-14',\n",
       "       '2019-10-01', '2019-02-06', '2019-01-31', '2019-05-02',\n",
       "       '2019-08-06', '2019-04-22', '2019-01-03', '2019-05-12',\n",
       "       '2019-10-04', '2019-01-29', '2019-08-22', '2019-04-11',\n",
       "       '2019-03-19', '2019-04-09', '2019-07-10', '2019-04-17',\n",
       "       '2019-09-25', '2019-03-04', '2019-05-30', '2019-04-14',\n",
       "       '2019-10-31', '2019-04-10', '2019-10-03', '2019-05-23',\n",
       "       '2019-02-23', '2019-10-30', '2019-10-10', '2019-09-26',\n",
       "       '2019-02-20', '2019-08-10', '2019-09-02', '2019-06-15',\n",
       "       '2019-09-11', '2019-03-27', '2019-02-21', '2019-07-24',\n",
       "       '2019-11-12', '2019-04-20', '2019-10-22', '2019-11-11',\n",
       "       '2019-10-09', '2019-09-05', '2019-09-30', '2019-06-26',\n",
       "       '2019-07-31', '2019-03-16', '2019-11-20', '2019-10-24',\n",
       "       '2019-08-14', '2019-07-13', '2019-05-18', '2019-08-07',\n",
       "       '2019-10-05', '2019-07-21', '2019-05-29', '2019-07-15',\n",
       "       '2019-06-27', '2019-08-13', '2019-08-15', '2019-11-15',\n",
       "       '2019-06-10', '2019-06-12', '2019-06-22', '2019-08-17',\n",
       "       '2019-09-07', '2019-08-28', '2019-09-23', '2019-10-12',\n",
       "       '2019-11-06', '2019-11-27', '2019-01-22', '2019-02-25',\n",
       "       '2019-12-13', '2019-11-08', '2019-05-22', '2019-03-26',\n",
       "       '2019-03-02', '2019-01-19', '2019-09-10', '2019-02-27',\n",
       "       '2019-05-19', '2019-05-20', '2019-07-30', '2019-04-23',\n",
       "       '2019-07-08', '2019-04-06', '2019-07-14', '2019-06-19',\n",
       "       '2019-10-14', '2019-07-16', '2019-02-02', '2019-12-06',\n",
       "       '2019-04-01', '2019-02-17', '2019-12-27', '2019-09-17',\n",
       "       '2019-08-26', '2019-12-25', '2019-01-28', '2019-11-04',\n",
       "       '2019-02-09', '2019-10-29', '2019-07-02', '2019-03-17',\n",
       "       '2019-11-21', '2019-04-08', '2019-10-23', '2019-12-12',\n",
       "       '2019-11-29', '2019-04-27', '2019-03-24', '2019-06-23',\n",
       "       '2019-05-07', '2019-01-26', '2019-08-03', '2019-11-05',\n",
       "       '2019-07-03', '2019-09-28', '2019-11-10', '2019-03-20',\n",
       "       '2019-09-09', '2019-08-05', '2019-01-27', '2019-07-27',\n",
       "       '2019-10-07', '2019-07-23', '2019-01-14', '2019-10-13',\n",
       "       '2019-08-11', '2019-02-11', '2019-09-08', '2019-09-14',\n",
       "       '2019-12-05', '2019-06-03', '2019-09-01', '2019-06-13',\n",
       "       '2019-04-30', '2019-10-19', '2019-03-10', '2019-05-13',\n",
       "       '2019-08-25', '2019-04-28', '2019-06-24', '2019-12-20',\n",
       "       '2019-12-07', '2019-07-20', '2019-03-30', '2019-06-17',\n",
       "       '2019-04-13', '2019-02-24', '2019-11-16', '2019-10-08',\n",
       "       '2019-11-13', '2019-03-23', '2019-07-07', '2019-07-06'],\n",
       "      dtype=object)"
      ]
     },
     "execution_count": 16,
     "metadata": {},
     "output_type": "execute_result"
    }
   ],
   "source": [
    "df_movies['date_published'].unique()"
   ]
  },
  {
   "cell_type": "code",
   "execution_count": 17,
   "id": "523b4024-48c4-403d-812b-c15cdbeb391e",
   "metadata": {},
   "outputs": [],
   "source": [
    "#df_movies['date_published'] = pd.to_datetime(df_movies['date_published'] , format = '%Y-%m-%d %H:%M:%S')"
   ]
  },
  {
   "cell_type": "code",
   "execution_count": 24,
   "id": "60b2b383-4d1e-443e-95a4-d2802ced8fcc",
   "metadata": {},
   "outputs": [],
   "source": [
    "#df_names[df_names['date_of_birth'].apply(lambda x : len(str(x))) < 5]"
   ]
  },
  {
   "cell_type": "code",
   "execution_count": 25,
   "id": "8fff44db-0049-4c47-9fe8-d8569e852715",
   "metadata": {},
   "outputs": [
    {
     "data": {
      "text/plain": [
       "'\\nfor i , row in df_role_mapping.iterrows():\\n    print(i,row)\\n'"
      ]
     },
     "execution_count": 25,
     "metadata": {},
     "output_type": "execute_result"
    }
   ],
   "source": [
    "'''\n",
    "for i , row in df_role_mapping.iterrows():\n",
    "    print(i,row)\n",
    "'''"
   ]
  },
  {
   "cell_type": "code",
   "execution_count": 26,
   "id": "1813d124-4f77-4b02-b529-8c5df42e1708",
   "metadata": {},
   "outputs": [
    {
     "data": {
      "text/plain": [
       "'%s%s%s%s%s%s%s%s'"
      ]
     },
     "execution_count": 26,
     "metadata": {},
     "output_type": "execute_result"
    }
   ],
   "source": [
    "'%s' * 8"
   ]
  },
  {
   "cell_type": "code",
   "execution_count": 18,
   "id": "2cbd9126-45a9-4cda-85e0-73a51f5e4f9e",
   "metadata": {},
   "outputs": [],
   "source": [
    "\n",
    "#Define a python function to upload Dataframe to MySQL database\n",
    "def upload_to_mysql(df, table_name):\n",
    "    mydb = mysql.connector.connect(host = 'localhost',\n",
    "                               user = 'root',\n",
    "                               password = '725@Mysql',\n",
    "                               database = 'imdb')\n",
    "\n",
    "    cur = mydb.cursor()\n",
    "    \n",
    "    for i, row in df.iterrows():\n",
    "        sql = f\"insert into {table_name} values ({'%s, ' * (len(row) - 1)}%s)\"\n",
    "        cur.execute(sql , tuple(row))\n",
    "        \n",
    "    mydb.commit()"
   ]
  },
  {
   "cell_type": "code",
   "execution_count": 19,
   "id": "48afb292-0b72-4d98-96a3-5354d247f29a",
   "metadata": {},
   "outputs": [],
   "source": [
    "#Upload data to respective tables\n",
    "upload_to_mysql(df_director_mapping, 'director_mapping')"
   ]
  },
  {
   "cell_type": "code",
   "execution_count": 20,
   "id": "9f9ea012-80d1-4e86-bc5d-97e75661c6d8",
   "metadata": {},
   "outputs": [],
   "source": [
    "upload_to_mysql(df_genre, 'genre')"
   ]
  },
  {
   "cell_type": "code",
   "execution_count": 21,
   "id": "fb7f438a-a0ea-4c12-96f0-0b38db6d7527",
   "metadata": {},
   "outputs": [],
   "source": [
    "upload_to_mysql(df_names, 'names')"
   ]
  },
  {
   "cell_type": "code",
   "execution_count": 22,
   "id": "ac4e60b7-b071-4a43-a595-faa76f3f67b3",
   "metadata": {},
   "outputs": [],
   "source": [
    "upload_to_mysql(df_ratings, 'ratings')"
   ]
  },
  {
   "cell_type": "code",
   "execution_count": 23,
   "id": "f514e48f-c9e7-40f9-99ec-0830324f6d86",
   "metadata": {},
   "outputs": [],
   "source": [
    "upload_to_mysql(df_role_mapping, 'role_mapping')"
   ]
  },
  {
   "cell_type": "code",
   "execution_count": 24,
   "id": "f9d08ecd-444e-40bc-a869-435ef10800ba",
   "metadata": {},
   "outputs": [],
   "source": [
    "upload_to_mysql(df_movies, 'movies')"
   ]
  },
  {
   "cell_type": "markdown",
   "id": "6f69da6c-9a08-482d-a9ed-836f0f40a5a5",
   "metadata": {},
   "source": [
    "**Data Table Insights**"
   ]
  },
  {
   "cell_type": "code",
   "execution_count": 30,
   "id": "37fb2d9d-3716-4856-aa21-b0caede3abfe",
   "metadata": {},
   "outputs": [],
   "source": [
    "data_tables = ['director_mapping','genre','names','ratings','role_mapping','movies']"
   ]
  },
  {
   "cell_type": "code",
   "execution_count": 31,
   "id": "b49da209-ce4f-4d8e-aa47-d86de1e5cc55",
   "metadata": {},
   "outputs": [],
   "source": [
    "#Count Number of rows\n",
    "\n",
    "def number_rows(table):\n",
    "    query = f\"select count(*) from {table}\"\n",
    "\n",
    "    cur.execute(query)\n",
    "\n",
    "    result = cur.fetchall()[0]\n",
    "\n",
    "    return result"
   ]
  },
  {
   "cell_type": "code",
   "execution_count": 33,
   "id": "07d06a14-9ef2-414c-9b1b-83342b736285",
   "metadata": {},
   "outputs": [
    {
     "name": "stdout",
     "output_type": "stream",
     "text": [
      "Number of rows in director_mapping-\n",
      "(3867,)\n",
      "\n",
      "Number of rows in genre-\n",
      "(14662,)\n",
      "\n",
      "Number of rows in names-\n",
      "(25735,)\n",
      "\n",
      "Number of rows in ratings-\n",
      "(7997,)\n",
      "\n",
      "Number of rows in role_mapping-\n",
      "(15615,)\n",
      "\n",
      "Number of rows in movies-\n",
      "(7997,)\n",
      "\n"
     ]
    }
   ],
   "source": [
    "for table in data_tables:\n",
    "    print(f\"Number of rows in {table}-\")\n",
    "    print(number_rows(table))\n",
    "    print()"
   ]
  },
  {
   "cell_type": "markdown",
   "id": "08346a36-40f4-4331-a92a-cbc410c6c670",
   "metadata": {},
   "source": [
    "**Access count of null values in movies table**"
   ]
  },
  {
   "cell_type": "code",
   "execution_count": 34,
   "id": "997adb03-c578-493e-8819-7acfb34bfcec",
   "metadata": {},
   "outputs": [
    {
     "name": "stdout",
     "output_type": "stream",
     "text": [
      "('id', 'varchar(255)', 'NO', 'PRI', None, '')\n",
      "('title', 'varchar(255)', 'YES', '', None, '')\n",
      "('year', 'int', 'YES', '', None, '')\n",
      "('date_published', 'date', 'YES', '', None, '')\n",
      "('duration', 'int', 'YES', '', None, '')\n",
      "('country', 'varchar(255)', 'YES', '', None, '')\n",
      "('worlwide_gross_income', 'varchar(255)', 'YES', '', None, '')\n",
      "('languages', 'varchar(255)', 'YES', '', None, '')\n",
      "('production_company', 'varchar(255)', 'YES', '', None, '')\n"
     ]
    }
   ],
   "source": [
    "query = \"describe movies\"\n",
    "cur.execute(query)\n",
    "result = cur.fetchall()\n",
    "for cols in result:\n",
    "    print(cols)"
   ]
  },
  {
   "cell_type": "code",
   "execution_count": 40,
   "id": "900b29d9-57ce-46d9-8120-a35cf37a0b58",
   "metadata": {},
   "outputs": [
    {
     "name": "stdout",
     "output_type": "stream",
     "text": [
      "0\n",
      "0\n",
      "0\n",
      "0\n",
      "0\n",
      "20\n",
      "3724\n",
      "198\n",
      "528\n"
     ]
    }
   ],
   "source": [
    "query = \"\"\"\n",
    "select\n",
    "    sum(case when id is null then 1 else 0 end) as ID_NULL_COUNT,\n",
    "    sum(case when title is null then 1 else 0 end) as Title_NULL_COUNT,\n",
    "    sum(case when year is null then 1 else 0 end) as Year_NULL_COUNT,\n",
    "    sum(case when date_published is null then 1 else 0 end) as Date_Published_NULL_COUNT,\n",
    "    sum(case when duration is null then 1 else 0 end) as Duration_NULL_COUNT,\n",
    "    sum(case when country is null then 1 else 0 end) as Country_NULL_COUNT,\n",
    "    sum(case when worlwide_gross_income is null then 1 else 0 end) as WorldWide_Gross_Income_NULL_COUNT,\n",
    "    sum(case when languages is null then 1 else 0 end) as Languages_NULL_COUNT,\n",
    "    sum(case when production_company is null then 1 else 0 end) as Production_Company_NULL_COUNT\n",
    "from movies\n",
    "\"\"\"\n",
    "\n",
    "cur.execute(query)\n",
    "result = cur.fetchall()[0]\n",
    "\n",
    "\n",
    "for cols in result:\n",
    "    print(cols)"
   ]
  },
  {
   "cell_type": "code",
   "execution_count": 41,
   "id": "9ea63044-3d43-42bb-a252-a83d60a2d38b",
   "metadata": {},
   "outputs": [
    {
     "data": {
      "text/plain": [
       "id                          0\n",
       "title                       0\n",
       "year                        0\n",
       "date_published              0\n",
       "duration                    0\n",
       "country                    20\n",
       "worlwide_gross_income    3724\n",
       "languages                 198\n",
       "production_company        528\n",
       "dtype: int64"
      ]
     },
     "execution_count": 41,
     "metadata": {},
     "output_type": "execute_result"
    }
   ],
   "source": [
    "df_movies.isna().sum()"
   ]
  },
  {
   "cell_type": "code",
   "execution_count": 50,
   "id": "21d99cf5-54e1-451b-8b19-860faa6f1400",
   "metadata": {},
   "outputs": [
    {
     "name": "stdout",
     "output_type": "stream",
     "text": [
      "[(2017, 3052), (2018, 2944), (2019, 2001)]\n"
     ]
    }
   ],
   "source": [
    "#Number of movies released each year\n",
    "\n",
    "mydb = mysql.connector.connect(host = 'localhost',\n",
    "                               user = 'root',\n",
    "                               password = '725@Mysql',\n",
    "                               database = 'imdb')\n",
    "\n",
    "cur = mydb.cursor()\n",
    "\n",
    "query = \"select year,count(title) as num_of_movies from movies group by year\"\n",
    "\n",
    "cur.execute(query)\n",
    "\n",
    "result = cur.fetchall()\n",
    "\n",
    "print(result)"
   ]
  },
  {
   "cell_type": "code",
   "execution_count": 55,
   "id": "1b160f8d-db55-4c4e-8a0c-32e990b4f81d",
   "metadata": {},
   "outputs": [
    {
     "name": "stdout",
     "output_type": "stream",
     "text": [
      "[(1, 804), (2, 640), (3, 824), (4, 680), (5, 625), (6, 580), (7, 493), (8, 678), (9, 809), (10, 801), (11, 625), (12, 438)]\n"
     ]
    }
   ],
   "source": [
    "#Number of movies in each month\n",
    "query = \"select month(date_published) as month,count(*) from movies group by month(date_published) order by month\"\n",
    "\n",
    "cur.execute(query)\n",
    "\n",
    "result = cur.fetchall()\n",
    "\n",
    "print(result)"
   ]
  },
  {
   "cell_type": "code",
   "execution_count": 60,
   "id": "e35371a1-80d4-4134-aa4e-a3c55043cb52",
   "metadata": {},
   "outputs": [
    {
     "name": "stdout",
     "output_type": "stream",
     "text": [
      "[(None, 20), ('Afghanistan, Iran', 1), ('Albania', 1), ('Algeria, Belgium, France', 1), ('Argentina', 34), ('Argentina, Brazil, France', 1), ('Argentina, Brazil, France, Netherlands, Germany, Belgium, Switzerland', 1), ('Argentina, Brazil, France, Poland, Germany, Denmark', 1), ('Argentina, Brazil, Portugal', 1), ('Argentina, Brazil, Spain, Dominican Republic, France, Netherlands, Mexico, Switzerland, USA, Portugal, Lebanon', 1), ('Argentina, Canada', 1), ('Argentina, Chile', 2), ('Argentina, Denmark', 1), ('Argentina, France', 1), ('Argentina, France, Chile', 1), ('Argentina, France, Spain', 1), ('Argentina, France, USA, Germany, Qatar', 1), ('Argentina, Germany, Brazil, Spain', 1), ('Argentina, Germany, Qatar, Dominican Republic', 1), ('Argentina, Mexico', 2), ('Argentina, New Zealand', 1), ('Argentina, Norway, Germany, Brazil', 1), ('Argentina, South Korea, Austria', 1), ('Argentina, Spain', 13), ('Argentina, Spain, Colombia, Brazil, USA', 1), ('Argentina, Switzerland, Netherlands, Qatar', 1), ('Argentina, Uruguay, France', 1), ('Argentina, Uruguay, Spain, France', 1), ('Argentina, USA', 2), ('Armenia, Iran', 1), ('Armenia, Russia', 1), ('Australia', 74), ('Australia, Albania', 1), ('Australia, Canada', 1), ('Australia, Colombia, UK', 1), ('Australia, Finland, UK', 1), ('Australia, France', 1), ('Australia, Japan', 1), ('Australia, Nepal', 1), ('Australia, UK', 1), ('Australia, UK, United Arab Emirates', 1), ('Australia, United Arab Emirates', 4), ('Australia, USA', 6), ('Australia, USA, Canada', 1), ('Australia, USA, Mexico', 1), ('Australia, USA, UK, India, Singapore', 1), ('Austria', 12), ('Austria, France, Belgium, Germany', 1), ('Austria, Germany', 5), ('Austria, Germany, France', 1), ('Austria, Israel', 1), ('Austria, Luxembourg', 2), ('Austria, USA', 1), ('Azerbaijan', 1), ('Bahamas, USA', 1), ('Bangladesh', 17), ('Bangladesh, India', 3), ('Belarus, USA, Germany, Russia', 1), ('Belgium', 24), ('Belgium, Canada', 1), ('Belgium, Canada, France', 1), ('Belgium, France', 11), ('Belgium, France, China', 1), ('Belgium, France, Lebanon', 1), ('Belgium, France, Netherlands', 1), ('Belgium, France, Rwanda', 1), ('Belgium, France, USA', 1), ('Belgium, Luxembourg, France', 1), ('Belgium, Netherlands', 4), ('Belgium, Netherlands, Denmark, France', 1), ('Belgium, Netherlands, France', 1), ('Belgium, Netherlands, Senegal', 1), ('Belgium, Pakistan, Luxembourg, France', 1), ('Belgium, Poland', 1), ('Belgium, Spain, France', 1), ('Belgium, UK, USA', 1), ('Belgium, UK, USA, China', 1), ('Bermuda, USA', 1), ('Bhutan', 1), ('Bolivia, Uruguay', 1), ('Bosnia and Herzegovina, Republic of Macedonia, Serbia, Croatia', 1), ('Bosnia and Herzegovina, Slovenia, Germany, Croatia', 1), ('Bosnia and Herzegovina, Turkey', 1), ('Bosnia and Herzegovina, Turkey, UK, USA, Qatar', 1), ('Brazil', 86), ('Brazil, Argentina', 1), ('Brazil, Argentina, France, Germany', 1), ('Brazil, France', 2), ('Brazil, France, Colombia', 1), ('Brazil, France, Germany', 1), ('Brazil, France, Spain', 1), ('Brazil, Germany', 1), ('Brazil, Italy', 1), ('Brazil, Netherlands, USA, Colombia, Austria, Germany', 1), ('Brazil, Portugal', 2), ('Brazil, Portugal, France', 1), ('Brazil, Portugal, Russia', 1), ('Brazil, Portugal, Spain', 1), ('Brazil, Uruguay', 1), ('Brazil, Uruguay, Denmark, Norway, Chile, Sweden', 1), ('Brazil, Uruguay, Germany', 1), ('Bulgaria', 6), ('Bulgaria, Croatia', 1), ('Bulgaria, Denmark, France', 1), ('Bulgaria, Germany, France', 1), ('Bulgaria, Germany, Republic of Macedonia', 1), ('Bulgaria, Qatar', 1), ('Bulgaria, Republic of Macedonia', 1), ('Bulgaria, Romania', 1), ('Bulgaria, UK', 1), ('Bulgaria, USA', 5), ('Cambodia', 2), ('Cambodia, USA', 1), ('Canada', 209), ('Canada, Belgium', 1), ('Canada, China, Mexico', 1), ('Canada, Colombia, Mexico', 1), ('Canada, Cuba', 1), ('Canada, France', 1), ('Canada, France, Morocco', 1), ('Canada, Germany, USA', 1), ('Canada, India', 1), ('Canada, Japan, USA', 1), ('Canada, Mexico, Chile', 1), ('Canada, New Zealand, Ireland, USA', 1), ('Canada, Norway, USA', 1), ('Canada, South Africa', 1), ('Canada, South Korea, USA, China', 1), ('Canada, Switzerland', 1), ('Canada, UK', 1), ('Canada, United Arab Emirates, USA', 1), ('Canada, USA', 46), ('Canada, USA, Cayman Islands', 2), ('Canada, USA, China', 1), ('Canada, USA, Spain, South Korea', 1), ('Canada, USA, UK', 1), ('Chile', 9), ('Chile, Argentina', 1), ('Chile, Argentina, Brazil', 1), ('Chile, Argentina, Spain', 1), ('Chile, Brazil, Argentina, Netherlands, Qatar', 1), ('Chile, France', 2), ('Chile, France, Argentina, Portugal, Germany, Switzerland', 1), ('Chile, France, Germany, Greece, Colombia', 1), ('Chile, Germany', 1), ('Chile, Germany, Spain, USA', 1), ('Chile, Mexico', 1), ('Chile, Peru', 1), ('Chile, USA', 1), ('China', 110), ('China, Australia, Russia, Thailand', 1), ('China, Canada, USA', 4), ('China, France', 2), ('China, France, Japan', 1), ('China, Hong Kong', 23), ('China, Hong Kong, Czech Republic', 1), ('China, Hungary', 1), ('China, India', 1), ('China, Japan', 2), ('China, Mongolia', 1), ('China, Morocco, Hong Kong', 1), ('China, South Korea', 1), ('China, Taiwan', 2), ('China, USA', 10), ('China, USA, Australia', 1), ('China, USA, Colombia', 1), ('China, USA, Japan', 1), ('China, USA, UK', 1), ('Colombia', 9), ('Colombia, Argentina', 1), ('Colombia, Argentina, Netherlands, Germany, Sweden, Uruguay, USA, Switzerland, Denmark', 1), ('Colombia, Canada', 1), ('Colombia, Denmark, Mexico, Germany, Switzerland, France', 1), ('Colombia, Ecuador', 1), ('Colombia, France', 1), ('Colombia, Germany, Norway, Argentina, Cuba', 1), ('Colombia, Peru', 1), ('Colombia, USA', 1), ('Costa Rica', 2), ('Croatia', 13), ('Croatia, Belgium, Netherlands', 1), ('Croatia, Denmark', 1), ('Croatia, Serbia, Poland', 1), ('Croatia, Serbia, Serbia and Montenegro', 1), ('Croatia, Serbia, Slovenia', 1), ('Croatia, Slovenia', 1), ('Cuba, Canada', 1), ('Cuba, Spain', 2), ('Cyprus', 2), ('Cyprus, Greece', 1), ('Czech Republic', 4), ('Czech Republic, France, Slovakia', 1), ('Czech Republic, Latvia, Russia', 1), ('Czech Republic, Poland, Slovakia', 1), ('Czech Republic, Slovakia', 5), ('Czech Republic, Slovakia, Denmark', 1), ('Czech Republic, Slovakia, Germany', 1), ('Czech Republic, Slovakia, Ukraine', 1), ('Czech Republic, Slovenia, Poland, Slovakia, France', 1), ('Czech Republic, Spain', 1), ('Czech Republic, Switzerland, UK, USA', 1), ('Czech Republic, UK', 1), ('Czech Republic, USA', 1), ('Denmark', 38), ('Denmark, Canada, Sweden, France, Germany, UK, USA', 1), ('Denmark, Canada, USA', 1), ('Denmark, Czech Republic', 1), ('Denmark, France, Italy, Belgium, Netherlands', 1), ('Denmark, France, Sweden, Germany, Belgium', 1), ('Denmark, Germany', 3), ('Denmark, Germany, Czech Republic', 1), ('Denmark, Iceland', 2), ('Denmark, Netherlands, Sweden', 1), ('Denmark, Norway', 1), ('Denmark, Norway, Australia, USA', 1), ('Denmark, Norway, Czech Republic', 1), ('Denmark, Norway, Germany', 1), ('Denmark, Norway, Hungary, Czech Republic', 1), ('Denmark, Norway, Sweden', 1), ('Denmark, Norway, Sweden, Iceland', 1), ('Denmark, Sweden', 4), ('Dominican Republic', 9), ('Egypt', 32), ('Egypt, Austria, USA', 1), ('Egypt, France, Germany', 1), ('Egypt, France, Qatar, United Arab Emirates, Germany', 1), ('Egypt, Germany, UK, United Arab Emirates', 1), ('Egypt, Kuwait, USA', 1), ('Egypt, United Arab Emirates', 1), ('Estonia', 11), ('Estonia, Belgium, Ireland, UK', 1), ('Estonia, Finland, Latvia', 1), ('Finland', 23), ('Finland, Belgium, Iceland', 1), ('Finland, Denmark', 1), ('Finland, Denmark, Croatia', 1), ('Finland, Estonia, Sweden', 1), ('Finland, France', 1), ('Finland, Germany', 1), ('Finland, Germany, Belgium', 1), ('Finland, Latvia', 1), ('Finland, Netherlands, Sweden', 1), ('Finland, Norway', 1), ('Finland, Norway, Belgium', 1), ('Finland, Poland', 1), ('Finland, Sweden', 4), ('Finland, Sweden, Denmark, Germany, Iceland, USA', 1), ('Finland, UK, Canada', 1), ('Finland, USA', 1), ('France', 195), ('France, Algeria, Belgium, Qatar', 1), ('France, Algeria, Germany', 1), ('France, Austria, Germany', 1), ('France, Belgium', 98), ('France, Belgium, Armenia', 1), ('France, Belgium, British Virgin Islands', 1), ('France, Belgium, Canada', 1), ('France, Belgium, China, USA', 1), ('France, Belgium, Georgia, Switzerland', 1), ('France, Belgium, Germany', 2), ('France, Belgium, Germany, USA', 1), ('France, Belgium, Italy', 1), ('France, Belgium, Japan, Poland, Netherlands, Hungary, UK, Germany, China, Thailand, Italy, Denmark, USA', 1), ('France, Belgium, Luxembourg', 1), ('France, Belgium, Luxembourg, Cambodia', 1), ('France, Belgium, Morocco', 1), ('France, Belgium, Poland', 1), ('France, Belgium, Senegal, Germany, Lebanon', 1), ('France, Belgium, Switzerland', 1), ('France, Belgium, USA', 2), ('France, Bosnia and Herzegovina', 1), ('France, Canada', 6), ('France, Canada, Czech Republic', 1), ('France, Canada, USA', 2), ('France, China, Belgium, Germany, United Arab Emirates, USA', 1), ('France, Colombia', 1), ('France, Germany', 3), ('France, Germany, Belgium', 2), ('France, Germany, Czech Republic, Belgium', 1), ('France, Germany, Netherlands, Chile', 1), ('France, Germany, Russia, Lithuania, Netherlands, Ukraine, Latvia', 1), ('France, Germany, South Africa', 1), ('France, Germany, Turkey', 1), ('France, Greece', 1), ('France, Greece, Algeria', 1), ('France, Greece, Turkey', 1), ('France, Guadeloupe, China', 1), ('France, India, Belgium, Singapore, USA', 1), ('France, Iran, USA', 1), ('France, Israel', 1), ('France, Israel, Belgium', 1), ('France, Israel, Germany', 1), ('France, Israel, Germany, USA', 1), ('France, Italy', 5), ('France, Japan', 2), ('France, Japan, USA', 1), ('France, Luxembourg', 1), ('France, Luxembourg, Belgium', 1), ('France, Luxembourg, Canada', 1), ('France, Luxembourg, Switzerland', 1), ('France, Luxembourg, USA', 1), ('France, Mexico', 1), ('France, Myanmar', 1), ('France, Netherlands', 1), ('France, Netherlands, Singapore', 1), ('France, Portugal', 3), ('France, Portugal, Russia', 1), ('France, Portugal, Spain', 1), ('France, Qatar, Belgium, Morocco', 1), ('France, Senegal', 2), ('France, Senegal, Belgium', 1), ('France, Spain', 1), ('France, Spain, Romania, Belgium, USA', 1), ('France, Sweden', 1), ('France, Sweden, Norway', 1), ('France, Switzerland', 2), ('France, Tunisia', 1), ('France, Tunisia, Belgium', 1), ('France, Turkey, Belgium', 1), ('France, UK', 1), ('France, UK, Germany, Luxembourg, Japan', 1), ('France, Ukraine, Belgium', 1), ('France, Uruguay', 1), ('France, USA', 7), ('Georgia', 4), ('Georgia, Croatia, UK, Ireland, Netherlands, Qatar', 1), ('Georgia, Estonia', 1), ('Georgia, Estonia, USA', 1), ('Georgia, France, Germany', 1), ('Georgia, Germany, France', 1), ('Georgia, Russia, Poland', 1), ('Germany', 146), ('Germany, Australia', 2), ('Germany, Austria', 5), ('Germany, Austria, Czech Republic', 1), ('Germany, Austria, France', 1), ('Germany, Austria, Italy, Morocco, Qatar, Lebanon, France', 1), ('Germany, Austria, Monaco, Romania, France, Switzerland', 1), ('Germany, Austria, Netherlands', 1), ('Germany, Azerbaijan', 1), ('Germany, Belgium', 3), ('Germany, Belgium, Luxembourg', 1), ('Germany, Bulgaria, Austria', 1), ('Germany, Canada', 2), ('Germany, France', 5), ('Germany, France, Italy', 1), ('Germany, France, Poland, China, Portugal', 1), ('Germany, France, Spain, USA', 1), ('Germany, France, Switzerland', 1), ('Germany, India, USA', 1), ('Germany, Iraq, Qatar', 1), ('Germany, Ireland, France', 1), ('Germany, Israel, France', 1), ('Germany, Italy', 6), ('Germany, Italy, Austria', 1), ('Germany, Jordan, Netherlands', 1), ('Germany, Kenya', 1), ('Germany, Luxembourg', 1), ('Germany, Luxembourg, Belgium, France', 1), ('Germany, Luxembourg, Denmark', 1), ('Germany, Norway', 1), ('Germany, Serbia', 1), ('Germany, Slovakia', 1), ('Germany, Sweden, USA', 1), ('Germany, Sweden, USA, Hungary', 1), ('Germany, Switzerland', 2), ('Germany, Turkey, USA', 1), ('Germany, UK', 1), ('Germany, UK, USA', 1), ('Germany, Ukraine, France, Netherlands, Romania, Poland', 1), ('Germany, USA', 5), ('Germany, USA, Canada', 1), ('Germany, USA, Switzerland', 1), ('Ghana, USA', 2), ('Greece', 16), ('Greece, Bulgaria, France', 1), ('Greece, France', 1), ('Greece, France, Latvia', 1), ('Greece, France, Serbia', 1), ('Greece, Germany', 1), ('Greece, Germany, Netherlands, Sweden', 1), ('Greece, Poland', 2), ('Greece, UK', 1), ('Greece, UK, Germany', 1), ('Guatemala', 1), ('Guatemala, France', 1), ('Guatemala, France, Luxembourg', 1), ('Honduras, USA', 1), ('Hong Kong', 35), ('Hong Kong, China', 8), ('Hong Kong, Iceland, USA', 1), ('Hong Kong, Macao, Taiwan', 1), ('Hong Kong, Malaysia', 3), ('Hong Kong, Thailand', 1), ('Hong Kong, USA', 4), ('Hungary', 34), ('Hungary, France', 1), ('Hungary, Germany, France', 1), ('Hungary, UK, USA', 1), ('Hungary, USA, UK', 2), ('Iceland', 5), ('Iceland, Belgium', 1), ('Iceland, Denmark, Sweden', 2), ('Iceland, Estonia, Germany', 1), ('Iceland, Finland, Germany', 1), ('Iceland, France, Ukraine', 1), ('Iceland, Poland, Denmark, Germany, France', 1), ('Iceland, Sweden, Belgium', 1), ('India', 1007), ('India, Canada', 2), ('India, France', 4), ('India, France, Singapore', 1), ('India, Germany, Austria', 1), ('India, Iran', 1), ('India, Mexico', 1), ('India, Nepal', 1), ('India, Pakistan, UK', 1), ('India, Serbia', 1), ('India, Singapore', 1), ('India, Sweden', 1), ('India, Turkey', 1), ('India, UK', 1), ('India, UK, Canada, USA', 1), ('India, UK, China, Canada, Japan, South Korea, USA', 1), ('India, UK, Netherlands, France', 1), ('India, Ukraine', 1), ('India, United Arab Emirates, USA', 1), ('India, USA', 7), ('Indonesia', 66), ('Indonesia, Australia, UK, United Arab Emirates', 1), ('Indonesia, France, Malaysia, Thailand', 1), ('Indonesia, Malaysia', 1), ('Indonesia, Netherlands', 1), ('Indonesia, Netherlands, Australia, Qatar', 1), ('Indonesia, Singapore', 1), ('Indonesia, South Korea', 2), ('Indonesia, South Korea, Singapore', 2), ('Indonesia, USA', 2), ('Iran', 92), ('Iran, Brazil', 1), ('Iran, Canada, Qatar', 1), ('Iran, France', 2), ('Iran, Germany', 1), ('Iran, Lebanon', 1), ('Iran, Poland', 1), ('Iran, Qatar', 1), ('Iran, Thailand', 1), ('Iran, UK, Netherlands', 1), ('Iraq, Canada, UK, France, Qatar, Netherlands', 1), ('Ireland', 20), ('Ireland, Belgium', 1), ('Ireland, Belgium, France, Luxembourg, UK', 1), ('Ireland, Belgium, USA', 2), ('Ireland, Canada', 4), ('Ireland, Canada, Luxembourg, USA, UK, Philippines, India', 1), ('Ireland, France', 2), ('Ireland, Germany, France', 1), ('Ireland, Sweden, USA', 1), ('Ireland, UK', 9), ('Ireland, UK, Belgium, Finland', 1), ('Ireland, UK, Germany, Sweden', 1), ('Ireland, UK, Hong Kong, Hungary, USA', 1), ('Ireland, UK, USA', 2), ('Ireland, USA', 3), ('Israel', 15), ('Israel, France', 1), ('Israel, Germany', 1), ('Israel, Hungary', 1), ('Israel, Palestine', 1), ('Israel, Poland', 1), ('Israel, Switzerland, Germany, France', 1), ('Israel, USA', 2), ('Italy', 123), ('Italy, Austria', 1), ('Italy, Belgium', 2), ('Italy, Belgium, France', 1), ('Italy, Brazil, Germany, France, Sweden, USA', 1), ('Italy, France', 11), ('Italy, France, Belgium', 2), ('Italy, France, Germany', 1), ('Italy, France, Germany, Brazil', 1), ('Italy, France, Switzerland', 1), ('Italy, Germany', 1), ('Italy, Germany, France', 1), ('Italy, Germany, Switzerland', 1), ('Italy, Holy See (Vatican City State)', 1), ('Italy, Philippines, Japan', 1), ('Italy, Poland', 1), ('Italy, Russia', 1), ('Italy, Spain', 1), ('Italy, Switzerland', 3), ('Italy, Switzerland, Albania, Poland', 1), ('Italy, Switzerland, France, Germany', 1), ('Italy, Turkey', 1), ('Italy, UK', 1), ('Italy, Ukraine', 1), ('Italy, USA', 5), ('Japan', 202), ('Japan, Canada, USA', 1), ('Japan, France', 4), ('Japan, Hong Kong, Taiwan', 1), ('Japan, UK', 1), ('Japan, UK, South Korea', 1), ('Japan, USA', 11), ('Japan, USA, Germany', 1), ('Japan, Uzbekistan, Qatar', 1), ('Kazakhstan', 1), ('Kazakhstan, France', 1), ('Kazakhstan, Poland, Norway', 1), ('Kenya, South Africa, Germany, Netherlands, France, Norway, Lebanon, UK', 1), ('Kosovo, Albania', 2), ('Kosovo, Albania, Republic of Macedonia', 1), ('Kyrgyzstan, Netherlands, Germany, France', 1), ('Laos, Estonia, France', 1), ('Latvia', 10), ('Latvia, Lithuania, Belgium, France', 1), ('Latvia, Russia, UK', 1), ('Lebanon', 3), ('Lebanon, France', 1), ('Lebanon, France, Qatar, United Arab Emirates', 1), ('Lebanon, France, USA, Cyprus, Qatar', 1), ('Lebanon, Iraq, France', 1), ('Lebanon, Italy', 1), ('Lebanon, Jordan, Egypt', 1), ('Lithuania', 14), ('Lithuania, Bulgaria, Poland, UK, France', 1), ('Lithuania, France, Ukraine, Poland, Switzerland, Monaco', 1), ('Lithuania, Poland', 1), ('Lithuania, Romania', 1), ('Lithuania, Ukraine, Latvia', 1), ('Lithuania, USA', 1), ('Luxembourg, Belgium, France', 1), ('Luxembourg, Belgium, Germany, France', 1), ('Luxembourg, Belgium, Israel, France', 1), ('Malaysia', 19), ('Malaysia, Australia', 1), ('Malaysia, Maldives, Brunei, Djibouti', 1), ('Malta, USA', 1), ('Mexico', 67), ('Mexico, Argentina, New Zealand', 1), ('Mexico, Chile', 2), ('Mexico, Colombia', 1), ('Mexico, Dominican Republic', 1), ('Mexico, Finland', 1), ('Mexico, Netherlands', 1), ('Mexico, Poland', 1), ('Mexico, Spain', 1), ('Mexico, UK', 1), ('Mexico, USA', 8), ('Mexico, USA, Greece, Dominican Republic', 1), ('Mongolia', 2), ('Montenegro', 1), ('Morocco, France, Qatar', 1), ('Morocco, Norway', 1), ('Morocco, Sweden, Denmark, Germany, France', 1), ('Myanmar', 2), ('Nepal', 7), ('Netherlands', 48), ('Netherlands, Belgium', 4), ('Netherlands, Belgium, Canada', 1), ('Netherlands, Belgium, Croatia', 1), ('Netherlands, Belgium, France', 1), ('Netherlands, Belgium, Germany', 2), ('Netherlands, Belgium, Luxembourg', 1), ('Netherlands, Belgium, Romania', 1), ('Netherlands, Bosnia and Herzegovina', 1), ('Netherlands, France, Germany, Belgium, Sweden, UK, USA', 1), ('Netherlands, Germany', 1), ('Netherlands, Germany, Denmark, UK', 1), ('Netherlands, Germany, USA', 1), ('Netherlands, Japan', 1), ('Netherlands, Norway', 1), ('Netherlands, Poland, France', 1), ('Netherlands, South Africa', 1), ('Netherlands, UK, Belgium, Ireland', 1), ('New Zealand', 14), ('New Zealand, India', 1), ('New Zealand, UK', 1), ('New Zealand, USA', 1), ('Nigeria', 5), ('Nigeria, USA', 1), ('Norway', 31), ('Norway, Denmark, Netherlands, Sweden', 1), ('Norway, Denmark, Sweden', 1), ('Norway, France, Denmark, Sweden', 1), ('Norway, Germany, Sweden, France, Denmark', 1), ('Norway, Iceland, USA', 1), ('Norway, Sweden', 2), ('Norway, Sweden, Czech Republic', 1), ('Norway, Sweden, Denmark', 1), ('Norway, Sweden, Germany', 1), ('Norway, UK', 1), ('Oman, India', 1), ('Pakistan', 30), ('Pakistan, United Arab Emirates', 1), ('Palestine, France, Colombia, Germany, United Arab Emirates, Qatar, Norway', 1), ('Palestine, France, Jordan, Lebanon, Qatar, United Arab Emirates', 1), ('Palestine, Germany, Netherlands, Mexico', 1), ('Palestine, USA, Qatar', 1), ('Panama', 2), ('Panama, USA, Argentina', 1), ('Paraguay', 1), ('Paraguay, Argentina', 1), ('Paraguay, France, Germany, Norway, Brazil, Uruguay, Italy', 1), ('Peru', 5), ('Peru, Germany, Norway', 1), ('Peru, Spain, USA, Chile', 1), ('Peru, USA', 1), ('Philippines', 42), ('Philippines, Singapore', 1), ('Poland', 59), ('Poland, Bosnia and Herzegovina, Croatia', 1), ('Poland, Czech Republic', 1), ('Poland, Czech Republic, Sweden', 1), ('Poland, Germany, Czech Republic, Sweden, Slovakia, France', 1), ('Poland, Netherlands', 1), ('Poland, Netherlands, Germany', 1), ('Poland, Spain, Germany, Belgium, Hungary, France', 1), ('Poland, UK', 1), ('Poland, UK, France', 1), ('Poland, UK, Ukraine', 1), ('Poland, UK, USA, Switzerland, Netherlands', 1), ('Poland, Ukraine, Lithuania, Hungary, Italy', 1), ('Poland, USA', 2), ('Portugal', 21), ('Portugal, Argentina, Brazil', 1), ('Portugal, Brazil', 2), ('Portugal, Brazil, Cape Verde', 1), ('Portugal, France', 4), ('Portugal, France, Brazil', 3), ('Portugal, France, Poland, USA', 1), ('Portugal, United Arab Emirates, Russia, Spain', 1), ('Puerto Rico', 3), ('Puerto Rico, UK, USA', 1), ('Republic of Macedonia', 1), ('Republic of Macedonia, Belgium', 1), ('Republic of Macedonia, Greece, France', 1), ('Republic of Macedonia, Hungary, Belgium', 1), ('Republic of Macedonia, Slovenia', 1), ('Romania', 20), ('Romania, Bulgaria, Hungary', 1), ('Romania, Canada, Germany, Sweden', 1), ('Romania, Canada, USA', 1), ('Romania, France', 3), ('Romania, France, Belgium', 1), ('Romania, France, Germany, Sweden', 1), ('Romania, France, Sweden', 1), ('Romania, Germany, Bulgaria, France, Czech Republic', 1), ('Romania, Germany, Czech Republic, Bulgaria, France', 1), ('Romania, Germany, France', 1), ('Romania, Serbia, Belgium', 1), ('Romania, Spain, Czech Republic', 1), ('Romania, USA', 1), ('Russia', 106), ('Russia, China', 2), ('Russia, Finland, Germany', 1), ('Russia, France', 1), ('Russia, France, Armenia', 1), ('Russia, France, Estonia', 1), ('Russia, France, Germany, Belgium', 1), ('Russia, Germany', 2), ('Russia, Germany, Lithuania, Poland', 1), ('Russia, Germany, Poland, Kazakhstan, China, France', 1), ('Russia, Ireland', 1), ('Russia, Kyrgyzstan', 1), ('Russia, Lithuania', 2), ('Russia, Lithuania, Ireland, France', 1), ('Russia, Lithuania, Republic of Macedonia', 1), ('Russia, Poland, Serbia', 1), ('Russia, Serbia', 1), ('Russia, Spain, USA', 1), ('Russia, USA', 4), ('Saudi Arabia, Germany', 1), ('Serbia', 10), ('Serbia, Bulgaria, Republic of Macedonia, Russia, France, Germany', 1), ('Serbia, France, Croatia, Iran, Qatar', 1), ('Serbia, Greece', 1), ('Serbia, Republic of Macedonia', 1), ('Serbia, UK, USA', 1), ('Serbia, USA', 3), ('Singapore', 2), ('Singapore, Japan, France', 1), ('Singapore, Malaysia', 1), ('Singapore, USA', 1), ('Slovakia', 1), ('Slovakia, Czech Republic', 1), ('Slovakia, Czech Republic, Austria', 1), ('Slovakia, Czech Republic, Poland', 1), ('Slovakia, France, Hungary, Czech Republic', 1), ('Slovakia, Ukraine', 1), ('Slovenia', 2), ('Slovenia, Austria', 1), ('Slovenia, Croatia', 1), ('Slovenia, Croatia, Serbia', 1), ('Slovenia, Serbia', 1), ('Somalia, Kenya, Sudan, South Africa, USA', 1), ('South Africa', 12), ('South Africa, China, USA', 1), ('South Africa, France', 1), ('South Africa, France, Greece, Poland', 1), ('South Africa, Germany, Netherlands, France', 1), ('South Africa, Luxembourg', 1), ('South Africa, USA', 2), ('South Africa, USA, Germany', 1), ('South Korea', 127), ('South Korea, Australia', 1), ('South Korea, China, USA', 1), ('South Korea, France', 1), ('South Korea, Germany', 1), ('South Korea, Japan', 2), ('South Korea, Japan, France, Hong Kong, USA, Belgium, Brazil, Mexico', 1), ('South Korea, USA', 2), ('Soviet Union', 3), ('Spain', 109), ('Spain, Argentina', 5), ('Spain, Argentina, Uruguay', 1), ('Spain, Belgium', 1), ('Spain, Belgium, France, UK, Portugal', 1), ('Spain, Belgium, Switzerland, USA, China, UK', 1), ('Spain, Bulgaria', 1), ('Spain, Colombia', 2), ('Spain, Cuba, UK, Germany', 1), ('Spain, Estonia, Ethiopia, Latvia, Romania', 1), ('Spain, France', 10), ('Spain, France, Argentina', 1), ('Spain, France, Belgium', 1), ('Spain, France, Denmark', 1), ('Spain, France, Italy', 1), ('Spain, France, Luxembourg', 1), ('Spain, Germany', 2), ('Spain, Iceland, Iran, Mexico, Sweden, USA', 1), ('Spain, Ireland, Belgium, France', 1), ('Spain, Italy', 3), ('Spain, Japan', 1), ('Spain, Mexico', 2), ('Spain, Mexico, Belgium', 1), ('Spain, Morocco', 1), ('Spain, Netherlands, Germany', 1), ('Spain, Portugal', 3), ('Spain, UK', 2), ('Spain, UK, USA, France', 1), ('Spain, USA', 11), ('Spain, USA, Canada', 1), ('Spain, USA, Italy', 1), ('Sri Lanka', 7), ('Sweden', 36), ('Sweden, Austria, Croatia', 1), ('Sweden, Denmark', 5), ('Sweden, Denmark, Finland', 1), ('Sweden, Finland, Denmark', 1), ('Sweden, Georgia, France', 1), ('Sweden, Germany, France, Denmark, USA', 1), ('Sweden, Germany, Norway', 1), ('Sweden, UK', 2), ('Sweden, USA', 1), ('Switzerland', 8), ('Switzerland, Austria, Poland', 1), ('Switzerland, Belgium, Ethiopia', 1), ('Switzerland, Belgium, France', 1), ('Switzerland, France', 1), ('Switzerland, France, India', 1), ('Switzerland, Germany', 3), ('Switzerland, Turkey', 1), ('Switzerland, UK, France, USA', 1), ('Switzerland, USA', 1), ('Syria, France, Lebanon, Qatar', 1), ('Taiwan', 30), ('Taiwan, China', 2), ('Taiwan, China, France, USA', 1), ('Taiwan, Hong Kong, Singapore, Malaysia', 1), ('Thailand', 18), ('Thailand, China, USA', 1), ('Thailand, France, China', 1), ('Thailand, Germany, Norway', 1), ('Thailand, Hong Kong, UK, USA', 1), ('Thailand, Hong Kong, USA', 1), ('Thailand, Japan', 1), ('Thailand, Laos, Japan, France', 1), ('Thailand, Singapore', 1), ('Thailand, USA', 2), ('Trinidad and Tobago', 1), ('Tunisia', 1), ('Tunisia, Belgium, France, Qatar', 1), ('Tunisia, France, Sweden, Norway, Lebanon, Qatar, Switzerland', 1), ('Tunisia, Qatar, United Arab Emirates, Lebanon', 1), ('Turkey', 166), ('Turkey, Azerbaijan', 1), ('Turkey, Bulgaria', 1), ('Turkey, France, Germany, Luxembourg', 1), ('Turkey, France, Germany, Netherlands', 1), ('Turkey, France, Germany, Poland', 1), ('Turkey, Germany, France', 1), ('Turkey, Germany, France, Sweden, Qatar', 1), ('Turkey, Germany, Greece', 1), ('Turkey, Germany, Netherlands, Greece', 1), ('Turkey, Germany, Romania', 1), ('Turkey, Germany, USA', 1), ('Turkey, Greece', 1), ('Turkey, Jordan', 1), ('Turkey, Republic of Macedonia, France, Germany, Bosnia and Herzegovina, Bulgaria, Sweden', 1), ('Turkey, UK', 1), ('Turkey, USA', 2), ('UK', 387), ('UK, Australia, France', 1), ('UK, Australia, Ireland', 1), ('UK, Australia, USA', 4), ('UK, Austria', 1), ('UK, Belgium', 3), ('UK, Belgium, Italy, Germany', 1), ('UK, Belgium, USA', 1), ('UK, Belgium, USA, Canada', 1), ('UK, Canada', 3), ('UK, Canada, Italy', 1), ('UK, Canada, USA', 5), ('UK, Canada, USA, Cayman Islands', 1), ('UK, China, Canada, Indonesia, Singapore, USA', 1), ('UK, China, Japan, USA', 1), ('UK, China, Puerto Rico, USA', 1), ('UK, China, USA', 3), ('UK, Finland', 1), ('UK, France', 3), ('UK, France, Belgium', 2), ('UK, France, Belgium, Canada, USA', 1), ('UK, France, Belgium, USA', 1), ('UK, France, China, Cambodia, USA, Germany', 1), ('UK, France, Germany', 1), ('UK, France, Germany, Poland', 1), ('UK, France, Germany, Zambia', 1), ('UK, France, Serbia', 1), ('UK, France, USA', 4), ('UK, France, USA, China', 1), ('UK, Germany', 4), ('UK, Germany, Japan', 1), ('UK, Germany, New Zealand', 1), ('UK, Germany, Sweden, Hungary', 1), ('UK, Germany, United Arab Emirates, New Zealand', 1), ('UK, Hungary', 2), ('UK, Hungary, Australia', 1), ('UK, Hungary, USA', 1), ('UK, India', 2), ('UK, India, USA', 2), ('UK, Iran', 1), ('UK, Ireland', 1), ('UK, Ireland, France', 1), ('UK, Israel', 1), ('UK, Italy', 2), ('UK, Italy, Argentina, USA', 1), ('UK, Latvia', 1), ('UK, Luxembourg, USA, Ireland', 1), ('UK, Malawi', 1), ('UK, Malta', 1), ('UK, Mexico, USA', 1), ('UK, Netherlands, France, USA', 1), ('UK, Norway, Canada, USA, France, Germany', 1), ('UK, Pakistan', 1), ('UK, Philippines, Hungary, USA', 1), ('UK, Poland', 2), ('UK, Poland, USA', 1), ('UK, Portugal', 1), ('UK, Romania, USA', 1), ('UK, Russia, China, Japan', 1), ('UK, South Africa, United Arab Emirates', 1), ('UK, Spain, Germany', 1), ('UK, Spain, USA', 1), ('UK, Spain, USA, Germany', 1), ('UK, Sweden', 3), ('UK, Sweden, Germany', 1), ('UK, Sweden, Norway', 1), ('UK, Sweden, USA', 1), ('UK, Switzerland, Italy, Brazil', 1), ('UK, Taiwan', 1), ('UK, USA', 76), ('UK, USA, Canada', 1), ('UK, USA, China, Sweden, Japan', 1), ('UK, USA, France, Hungary, Netherlands', 1), ('UK, USA, France, Malta', 1), ('UK, USA, India, Canada, France, Belgium', 1), ('UK, USA, Japan', 1), ('UK, USA, Qatar', 1), ('Ukraine', 21), ('Ukraine, Germany, Monaco', 1), ('Ukraine, Latvia', 1), ('Ukraine, Poland, Republic of Macedonia', 1), ('Ukraine, USA', 1), ('United Arab Emirates', 5), ('United Arab Emirates, Romania', 1), ('United Arab Emirates, UK, India', 1), ('United Arab Emirates, USA', 2), ('United Arab Emirates, USA, India', 1), ('Uruguay, Argentina, Germany', 1), ('Uruguay, Argentina, Spain', 1), ('Uruguay, Spain, Argentina, France, Germany', 1), ('Uruguay, Spain, Mexico', 1), ('USA', 2260), ('USA, Argentina', 1), ('USA, Australia', 7), ('USA, Austria, Thailand', 1), ('USA, Belgium', 1), ('USA, Belize', 1), ('USA, Brazil', 2), ('USA, Bulgaria', 2), ('USA, Canada', 33), ('USA, Canada, France, UK, India', 1), ('USA, Canada, India', 1), ('USA, Canada, Ireland', 1), ('USA, Canada, New Zealand', 1), ('USA, Canada, UK', 1), ('USA, China', 11), ('USA, China, Canada', 1), ('USA, China, France, Norway, UK', 1), ('USA, China, Hong Kong', 2), ('USA, China, Hong Kong, Australia, Canada', 1), ('USA, China, India, Nepal, Hong Kong, United Arab Emirates, Iceland', 1), ('USA, China, Japan', 2), ('USA, Colombia, Iran, Kenya, Germany, Romania, Spain, China, UK, Greece, South Africa, Portugal, United Arab Emirates, India, Brazil, Philippines, Italy, Norway, Malaysia, France, Singapore, Indonesia, Bolivia, Bulgaria, Sudan', 1), ('USA, Denmark', 1), ('USA, Denmark, Australia', 1), ('USA, El Salvador', 1), ('USA, France', 7), ('USA, France, Chile, China, Germany, UK', 1), ('USA, France, Japan', 1), ('USA, France, UK, Belgium, Germany', 1), ('USA, Germany', 3), ('USA, Germany, France, Canada, South Africa, Australia, UK, Japan', 1), ('USA, Greece', 3), ('USA, Hong Kong', 4), ('USA, Hong Kong, Canada', 1), ('USA, Hong Kong, Japan, Mexico, Canada, New Zealand', 1), ('USA, Hong Kong, Mexico, Morocco, Switzerland, United Arab Emirates', 1), ('USA, Hungary', 1), ('USA, Hungary, Italy, Romania', 1), ('USA, Iceland', 1), ('USA, India', 5), ('USA, India, Canada', 1), ('USA, India, Canada, UK, Australia, Germany', 1), ('USA, India, Hong Kong, China, UK', 1), ('USA, India, South Korea, China', 1), ('USA, Iran', 1), ('USA, Ireland', 1), ('USA, Israel, UK, Canada', 1), ('USA, Italy', 1), ('USA, Italy, UK', 1), ('USA, Jamaica', 1), ('USA, Japan', 7), ('USA, Japan, Colombia', 1), ('USA, Japan, UK, Canada', 1), ('USA, Mexico', 6), ('USA, Mexico, Australia', 1), ('USA, Monaco', 2), ('USA, Morocco', 1), ('USA, New Zealand', 1), ('USA, New Zealand, Australia', 1), ('USA, Nigeria', 1), ('USA, Norway', 1), ('USA, Philippines, Puerto Rico', 1), ('USA, Poland', 1), ('USA, Poland, Norway', 1), ('USA, Portugal', 2), ('USA, Qatar', 1), ('USA, Romania', 1), ('USA, Russia', 2), ('USA, Serbia, Canada', 1), ('USA, South Africa', 2), ('USA, South Korea', 1), ('USA, Spain', 4), ('USA, Spain, Bulgaria', 1), ('USA, Spain, China, South Korea', 1), ('USA, Spain, Hungary', 1), ('USA, Sweden', 2), ('USA, Sweden, Hungary', 1), ('USA, Thailand', 1), ('USA, UK', 19), ('USA, UK, Australia', 1), ('USA, UK, Australia, Canada', 1), ('USA, UK, Bulgaria, Canada', 1), ('USA, UK, China', 1), ('USA, UK, Cyprus, Russia', 1), ('USA, UK, France', 1), ('USA, UK, Hungary, Canada, Spain', 1), ('USA, UK, Taiwan, Japan, Mexico, Italy', 1), ('USA, UK, Thailand', 1), ('USA, Venezuela', 1), ('Venezuela', 2), ('Venezuela, Chile, Norway', 1), ('Venezuela, Colombia', 1), ('Vietnam', 9), ('Yemen', 1)]\n"
     ]
    }
   ],
   "source": [
    "#How many movies produced in the USA or India in the year 2019?\n",
    "\n",
    "query = \"select country,count(distinct id) from movies group by country\" \n",
    "\n",
    "cur.execute(query)\n",
    "\n",
    "result = cur.fetchall()\n",
    "\n",
    "print(result)"
   ]
  },
  {
   "cell_type": "code",
   "execution_count": 65,
   "id": "8328e356-398a-452a-938c-45a3d081082b",
   "metadata": {},
   "outputs": [
    {
     "name": "stdout",
     "output_type": "stream",
     "text": [
      "[(1059, 2019)]\n"
     ]
    }
   ],
   "source": [
    "#How many movies produced in the USA or India in the year 2019?\n",
    "\n",
    "query = \"\"\"\n",
    "select count(distinct id),year from movies where (country like '%INDIA%' or country like '%USA%') and  year = 2019\n",
    "\"\"\" \n",
    "\n",
    "cur.execute(query)\n",
    "\n",
    "result = cur.fetchall()\n",
    "\n",
    "print(result)"
   ]
  },
  {
   "cell_type": "code",
   "execution_count": 66,
   "id": "b8a2f549-e39e-4230-9477-3009d782b561",
   "metadata": {},
   "outputs": [
    {
     "name": "stdout",
     "output_type": "stream",
     "text": [
      "[('movie_id', 'varchar(255)', 'YES', '', None, ''), ('genre', 'varchar(255)', 'YES', '', None, '')]\n"
     ]
    }
   ],
   "source": [
    "query = \"describe genre\"\n",
    "\n",
    "cur.execute(query)\n",
    "\n",
    "result = cur.fetchall()\n",
    "\n",
    "print(result)"
   ]
  },
  {
   "cell_type": "code",
   "execution_count": 77,
   "id": "64cd56a9-9216-405c-b87e-c1b95b8593e6",
   "metadata": {},
   "outputs": [
    {
     "name": "stdout",
     "output_type": "stream",
     "text": [
      "[(13,)]\n"
     ]
    }
   ],
   "source": [
    "#Unique genre in the dataset\n",
    "\n",
    "query = \"select count(distinct(genre)) from genre\"\n",
    "\n",
    "#query = \"select genre from genre group by genre\"\n",
    "\n",
    "cur.execute(query)\n",
    "\n",
    "result = cur.fetchall()\n",
    "\n",
    "print(result)"
   ]
  },
  {
   "cell_type": "code",
   "execution_count": 95,
   "id": "0395cb0d-4f7a-49b0-b47f-7b7f080b6b9c",
   "metadata": {},
   "outputs": [
    {
     "name": "stdout",
     "output_type": "stream",
     "text": [
      "[('Drama', 4285)]\n"
     ]
    }
   ],
   "source": [
    "#Which genre had the highest number of movies produced overall?\n",
    "\n",
    "mydb = mysql.connector.connect(host = 'localhost',\n",
    "                               user = 'root',\n",
    "                               password = '725@Mysql',\n",
    "                               database = 'imdb')\n",
    "\n",
    "cur = mydb.cursor()\n",
    "\n",
    "'''\n",
    "query = \"\"\"\n",
    "select genre from genre group by genre\n",
    "\"\"\"\n",
    "\n",
    "\n",
    "query = \"\"\"\n",
    "select count(movies.id) from movies\n",
    "\"\"\"\n",
    "\n",
    "query = \"\"\"\n",
    "select genre, count(movies.id) from movies inner join genre on movies.id = genre.movie_id group by genre\n",
    "\"\"\"\n",
    "'''\n",
    "\n",
    "query = \"\"\"\n",
    "select genre, count(movies.id) as num_movies from movies inner join genre on movies.id = genre.movie_id group by genre\n",
    "order by num_movies desc limit 1\n",
    "\"\"\"\n",
    "\n",
    "\n",
    "cur.execute(query)\n",
    "\n",
    "result = cur.fetchall()\n",
    "\n",
    "print(result)"
   ]
  },
  {
   "cell_type": "code",
   "execution_count": 102,
   "id": "b8c6badc-6a66-44a8-8086-854e5aee3ff5",
   "metadata": {},
   "outputs": [
    {
     "name": "stdout",
     "output_type": "stream",
     "text": [
      "[('Action', Decimal('113')), ('Romance', Decimal('110')), ('Drama', Decimal('107')), ('Crime', Decimal('107')), ('Fantasy', Decimal('105')), ('Comedy', Decimal('103')), ('Thriller', Decimal('102')), ('Adventure', Decimal('102')), ('Mystery', Decimal('102')), ('Family', Decimal('101')), ('Others', Decimal('100')), ('Sci-Fi', Decimal('98')), ('Horror', Decimal('93'))]\n"
     ]
    }
   ],
   "source": [
    "#Average duration of moovies in each genre?\n",
    "\n",
    "mydb = mysql.connector.connect(host = 'localhost',\n",
    "                               user = 'root',\n",
    "                               password = '725@Mysql',\n",
    "                               database = 'imdb')\n",
    "\n",
    "cur = mydb.cursor()\n",
    "\n",
    "query = \"\"\"\n",
    "select genre,round(avg(duration)) as avg_duration from genre inner join movies on movies.id = genre.movie_id \n",
    "group by genre \n",
    "order by avg_duration desc\n",
    "\"\"\"\n",
    "\n",
    "\n",
    "cur.execute(query)\n",
    "\n",
    "result = cur.fetchall()\n",
    "\n",
    "print(result)"
   ]
  },
  {
   "cell_type": "code",
   "execution_count": 104,
   "id": "dba026bc-8f22-46b8-af08-7920d32b1cad",
   "metadata": {},
   "outputs": [
    {
     "name": "stdout",
     "output_type": "stream",
     "text": [
      "('movie_id', 'varchar(255)', 'YES', '', None, '')\n",
      "('avg_rating', 'float', 'YES', '', None, '')\n",
      "('total_votes', 'int', 'YES', '', None, '')\n",
      "('median_rating', 'float', 'YES', '', None, '')\n"
     ]
    }
   ],
   "source": [
    "#Find the minimum and maximum values in each column of the ratings table except movie_id column\n",
    "\n",
    "query = \"describe ratings\"\n",
    "\n",
    "cur.execute(query)\n",
    "\n",
    "result = cur.fetchall()\n",
    "\n",
    "for cols in result:\n",
    "    print(cols)"
   ]
  },
  {
   "cell_type": "code",
   "execution_count": 108,
   "id": "a9a98da6-2546-41d8-b5d3-60d78e4fce93",
   "metadata": {},
   "outputs": [
    {
     "name": "stdout",
     "output_type": "stream",
     "text": [
      "[(1.0, 10.0, 100, 725138, 1.0, 10.0)]\n"
     ]
    }
   ],
   "source": [
    "query = \"\"\"\n",
    "select min(avg_rating) as min_avg_ratings, \n",
    "    max(avg_rating) as max_avg_ratings, \n",
    "    min(total_votes) as min_total_votes,\n",
    "    max(total_votes) as max_total_votes, \n",
    "    min(median_rating) as min_median_ratings,\n",
    "    max(median_rating) as max_median_ratings\n",
    "from ratings\n",
    "\"\"\"\n",
    "\n",
    "cur.execute(query)\n",
    "\n",
    "result = cur.fetchall()\n",
    "\n",
    "print(result)"
   ]
  },
  {
   "cell_type": "code",
   "execution_count": 113,
   "id": "31068cd7-58f9-4f5d-996c-934ba611a6f5",
   "metadata": {},
   "outputs": [
    {
     "name": "stdout",
     "output_type": "stream",
     "text": [
      "[('Kirket', 10.0), ('Love in Kilnerry', 10.0), ('Gini Helida Kathe', 9.8), ('Runam', 9.7), ('Fan', 9.6), ('Android Kunjappan Version 5.25', 9.6), ('Yeh Suhaagraat Impossible', 9.5), ('Safe', 9.5), ('The Brighton Miracle', 9.5), ('Shibu', 9.4)]\n"
     ]
    }
   ],
   "source": [
    "#Top 10 movies based on average rating\n",
    "\n",
    "query = \"\"\"\n",
    "select title,avg_rating from movies inner join ratings\n",
    "on movies.id = ratings.movie_id order by avg_rating desc limit 10\n",
    "\"\"\"\n",
    "\n",
    "cur.execute(query)\n",
    "\n",
    "result = cur.fetchall()\n",
    "\n",
    "print(result)"
   ]
  },
  {
   "cell_type": "code",
   "execution_count": 117,
   "id": "fed3b876-4738-4207-9d0d-1bc419e160a8",
   "metadata": {},
   "outputs": [
    {
     "name": "stdout",
     "output_type": "stream",
     "text": [
      "[('Kirket', 10.0, 1), ('Love in Kilnerry', 10.0, 1), ('Gini Helida Kathe', 9.8, 3), ('Runam', 9.7, 4), ('Fan', 9.6, 5), ('Android Kunjappan Version 5.25', 9.6, 5), ('Yeh Suhaagraat Impossible', 9.5, 7), ('Safe', 9.5, 7), ('The Brighton Miracle', 9.5, 7), ('Shibu', 9.4, 10)]\n"
     ]
    }
   ],
   "source": [
    "#Top 10 movies based on average rating\n",
    "\n",
    "query = \"\"\"\n",
    "select title,avg_rating,rank() over(order by avg_rating desc) as movie_rank from movies inner join ratings\n",
    "on movies.id = ratings.movie_id limit 10\n",
    "\"\"\"\n",
    "\n",
    "cur.execute(query)\n",
    "\n",
    "result = cur.fetchall()\n",
    "\n",
    "print(result)"
   ]
  },
  {
   "cell_type": "code",
   "execution_count": 124,
   "id": "c593fcfc-6e01-4e0c-b07f-39f739cd0df4",
   "metadata": {},
   "outputs": [
    {
     "name": "stdout",
     "output_type": "stream",
     "text": [
      "[(7.0, 2235), (6.0, 1963), (8.0, 1021), (5.0, 971), (4.0, 472), (9.0, 424), (10.0, 345), (3.0, 279), (2.0, 119), (1.0, 94), (6.5, 22), (4.5, 14), (5.5, 12), (7.5, 9), (3.5, 7), (8.5, 5), (2.5, 4), (9.5, 1)]\n"
     ]
    }
   ],
   "source": [
    "#Summarise the ratings table based on movie counts by median ratings\n",
    "\n",
    "query = \"\"\"\n",
    "select median_rating, count(movie_id) as movie_count from ratings group by median_rating order by movie_count desc\n",
    "\"\"\"\n",
    "\n",
    "cur.execute(query)\n",
    "\n",
    "result = cur.fetchall()\n",
    "\n",
    "print(result)"
   ]
  },
  {
   "cell_type": "code",
   "execution_count": 133,
   "id": "d0c37d57-5a5a-4fa9-a9ad-09b24d6c4246",
   "metadata": {},
   "outputs": [
    {
     "name": "stdout",
     "output_type": "stream",
     "text": [
      "[('Dream Warrior Pictures', 3, 1), ('National Theatre Live', 3, 1)]\n"
     ]
    }
   ],
   "source": [
    "#Which production house has produced the most number of hits, (average rating > 8)\n",
    "\n",
    "query = \"\"\"\n",
    "with production_comany_hit_movie_summary as(\n",
    "    select production_company, count(id), rank() over(order by count(id) desc) as prod_comp_rank from movies \n",
    "    inner join ratings on movies.id = ratings.movie_id\n",
    "    where avg_rating > 8 and production_company is not null\n",
    "    group by production_company\n",
    ")\n",
    "\n",
    "select * from production_comany_hit_movie_summary where prod_comp_rank = 1\n",
    "\"\"\"\n",
    "\n",
    "cur.execute(query)\n",
    "\n",
    "result = cur.fetchall()\n",
    "\n",
    "print(result)"
   ]
  },
  {
   "cell_type": "code",
   "execution_count": null,
   "id": "4b9db490-b943-4699-b646-7e3dbd2b8fe0",
   "metadata": {},
   "outputs": [],
   "source": []
  }
 ],
 "metadata": {
  "kernelspec": {
   "display_name": "Python 3 (ipykernel)",
   "language": "python",
   "name": "python3"
  },
  "language_info": {
   "codemirror_mode": {
    "name": "ipython",
    "version": 3
   },
   "file_extension": ".py",
   "mimetype": "text/x-python",
   "name": "python",
   "nbconvert_exporter": "python",
   "pygments_lexer": "ipython3",
   "version": "3.9.0"
  }
 },
 "nbformat": 4,
 "nbformat_minor": 5
}
