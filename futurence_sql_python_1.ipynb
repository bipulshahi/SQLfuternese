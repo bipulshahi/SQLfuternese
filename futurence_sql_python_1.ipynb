{
 "cells": [
  {
   "cell_type": "code",
   "execution_count": 1,
   "id": "22c0df67-183a-4921-8b40-d8f328addfd2",
   "metadata": {},
   "outputs": [],
   "source": [
    "import mysql.connector"
   ]
  },
  {
   "cell_type": "code",
   "execution_count": 3,
   "id": "140af7ed-9b7a-4f73-8c7d-33d9e9d29619",
   "metadata": {},
   "outputs": [
    {
     "name": "stdout",
     "output_type": "stream",
     "text": [
      "11\n"
     ]
    }
   ],
   "source": [
    "mydb = mysql.connector.connect(host = 'localhost',\n",
    "                               user = 'root',\n",
    "                               password = '725@Mysql')\n",
    "print(mydb.connection_id)"
   ]
  },
  {
   "cell_type": "code",
   "execution_count": 4,
   "id": "f99fe397-6679-49f1-90b4-637aab429ff8",
   "metadata": {},
   "outputs": [
    {
     "name": "stdout",
     "output_type": "stream",
     "text": [
      "companydb database is created\n"
     ]
    }
   ],
   "source": [
    "#create database once we are connected with server\n",
    "cur = mydb.cursor()\n",
    "\n",
    "query = \"create database companydb\"\n",
    "\n",
    "cur.execute(query)\n",
    "\n",
    "print(\"companydb database is created\")"
   ]
  },
  {
   "cell_type": "code",
   "execution_count": 11,
   "id": "9a15d8fe-123e-4f81-87a5-dbc42fd372b0",
   "metadata": {},
   "outputs": [
    {
     "name": "stdout",
     "output_type": "stream",
     "text": [
      "('companydb',)\n",
      "('demodb1',)\n",
      "('information_schema',)\n",
      "('mysql',)\n",
      "('mysql_db',)\n",
      "('performance_schema',)\n",
      "('sys',)\n"
     ]
    }
   ],
   "source": [
    "mydb = mysql.connector.connect(host = 'localhost',\n",
    "                               user = 'root',\n",
    "                               password = '725@Mysql')\n",
    "\n",
    "cur = mydb.cursor()\n",
    "\n",
    "query = \"show databases;\"\n",
    "cur.execute(query)\n",
    "#result = cur.fetchall()\n",
    "#print(result)\n",
    "\n",
    "\n",
    "for db in cur:\n",
    "    print(db)"
   ]
  },
  {
   "cell_type": "code",
   "execution_count": 15,
   "id": "542a5487-829f-4779-bcff-aae6a5e96869",
   "metadata": {},
   "outputs": [
    {
     "name": "stdout",
     "output_type": "stream",
     "text": [
      "data table is created\n"
     ]
    }
   ],
   "source": [
    "mydb = mysql.connector.connect(host = 'localhost',\n",
    "                               user = 'root',\n",
    "                               password = '725@Mysql',\n",
    "                              database = 'companydb')\n",
    "\n",
    "cur = mydb.cursor()\n",
    "\n",
    "query = \"create table employees (employee_id int primary key, first_name varchar(20), last_name varchar(20), hire_date datetime, dept_id int, salary decimal(9,2))\"\n",
    "cur.execute(query)\n",
    "print(\"data table is created\")"
   ]
  },
  {
   "cell_type": "code",
   "execution_count": 19,
   "id": "b24d27f2-d4cb-4920-856c-7cb880407da1",
   "metadata": {},
   "outputs": [
    {
     "name": "stdout",
     "output_type": "stream",
     "text": [
      "2024-06-18 09:01:21.813188\n"
     ]
    }
   ],
   "source": [
    "import datetime\n",
    "print(datetime.datetime.now())"
   ]
  },
  {
   "cell_type": "code",
   "execution_count": 22,
   "id": "bdb7b68c-5a13-4a70-ac3b-c6ee25da56e0",
   "metadata": {},
   "outputs": [
    {
     "name": "stdout",
     "output_type": "stream",
     "text": [
      "Data row updated\n"
     ]
    }
   ],
   "source": [
    "mydb = mysql.connector.connect(host = 'localhost',\n",
    "                               user = 'root',\n",
    "                               password = '725@Mysql',\n",
    "                              database = 'companydb')\n",
    "\n",
    "cur = mydb.cursor()\n",
    "\n",
    "query = \"insert into employees (employee_id,first_name,last_name,hire_date,dept_id,salary ) values(%s,%s,%s,%s,%s,%s)\"\n",
    "value = (1,'Virat','Kohli',datetime.datetime.now(),101,35000.5)\n",
    "\n",
    "cur.execute(query,value)\n",
    "mydb.commit()\n",
    "print(\"Data row updated\")"
   ]
  },
  {
   "cell_type": "code",
   "execution_count": 24,
   "id": "ab6407e7-4b07-4bdd-85cc-b641bab3691c",
   "metadata": {},
   "outputs": [
    {
     "name": "stdout",
     "output_type": "stream",
     "text": [
      "Data row updated\n"
     ]
    }
   ],
   "source": [
    "mydb = mysql.connector.connect(host = 'localhost',\n",
    "                               user = 'root',\n",
    "                               password = '725@Mysql',\n",
    "                              database = 'companydb')\n",
    "\n",
    "cur = mydb.cursor()\n",
    "\n",
    "query = \"insert into employees (employee_id,first_name,last_name,hire_date,dept_id,salary ) values(%s,%s,%s,%s,%s,%s)\"\n",
    "value = [(2,'Rohit','Sharma',datetime.datetime.now(),101,55000.5),\n",
    "         (3,'Rishabh','Pant',datetime.datetime.now(),102,45000.5),\n",
    "         (4,'Ravindra','Jadeja',datetime.datetime.now(),102,65000.5)]\n",
    "\n",
    "cur.executemany(query,value)\n",
    "mydb.commit()\n",
    "print(\"Data row updated\")"
   ]
  },
  {
   "cell_type": "code",
   "execution_count": 26,
   "id": "8da19ccb-f727-46a6-854e-d88edfae144f",
   "metadata": {},
   "outputs": [
    {
     "name": "stdout",
     "output_type": "stream",
     "text": [
      "(1, 'Virat', 'Kohli', datetime.datetime(2024, 6, 18, 9, 6, 47), 101, Decimal('35000.50'))\n",
      "(2, 'Rohit', 'Sharma', datetime.datetime(2024, 6, 18, 9, 10, 8), 101, Decimal('55000.50'))\n",
      "(3, 'Rishabh', 'Pant', datetime.datetime(2024, 6, 18, 9, 10, 8), 102, Decimal('45000.50'))\n",
      "(4, 'Ravindra', 'Jadeja', datetime.datetime(2024, 6, 18, 9, 10, 8), 102, Decimal('65000.50'))\n"
     ]
    }
   ],
   "source": [
    "mydb = mysql.connector.connect(host = 'localhost',\n",
    "                               user = 'root',\n",
    "                               password = '725@Mysql',\n",
    "                              database = 'companydb')\n",
    "\n",
    "cur = mydb.cursor()\n",
    "\n",
    "query = \"select * from employees\"\n",
    "cur.execute(query)\n",
    "\n",
    "for row in cur:\n",
    "    print(row)"
   ]
  },
  {
   "cell_type": "code",
   "execution_count": 27,
   "id": "8cf9d642-438b-48fb-bb28-971e7f02e67b",
   "metadata": {},
   "outputs": [
    {
     "name": "stdout",
     "output_type": "stream",
     "text": [
      "[(1, 'Virat', 'Kohli', datetime.datetime(2024, 6, 18, 9, 6, 47), 101, Decimal('35000.50')), (2, 'Rohit', 'Sharma', datetime.datetime(2024, 6, 18, 9, 10, 8), 101, Decimal('55000.50')), (3, 'Rishabh', 'Pant', datetime.datetime(2024, 6, 18, 9, 10, 8), 102, Decimal('45000.50')), (4, 'Ravindra', 'Jadeja', datetime.datetime(2024, 6, 18, 9, 10, 8), 102, Decimal('65000.50'))]\n"
     ]
    }
   ],
   "source": [
    "mydb = mysql.connector.connect(host = 'localhost',\n",
    "                               user = 'root',\n",
    "                               password = '725@Mysql',\n",
    "                              database = 'companydb')\n",
    "\n",
    "cur = mydb.cursor()\n",
    "\n",
    "query = \"select * from employees\"\n",
    "cur.execute(query)\n",
    "\n",
    "result = cur.fetchall()\n",
    "print(result)"
   ]
  },
  {
   "cell_type": "code",
   "execution_count": 30,
   "id": "0b18c262-73b3-41dc-950d-60c4221feeb4",
   "metadata": {},
   "outputs": [
    {
     "name": "stdout",
     "output_type": "stream",
     "text": [
      "(1, 'Virat', 'Kohli', datetime.datetime(2024, 6, 18, 9, 6, 47), 101, Decimal('35000.50'))\n",
      "(2, 'Rohit', 'Sharma', datetime.datetime(2024, 6, 18, 9, 10, 8), 101, Decimal('55000.50'))\n",
      "(3, 'Rishabh', 'Pant', datetime.datetime(2024, 6, 18, 9, 10, 8), 102, Decimal('45000.50'))\n",
      "(4, 'Ravindra', 'Jadeja', datetime.datetime(2024, 6, 18, 9, 10, 8), 102, Decimal('65000.50'))\n"
     ]
    }
   ],
   "source": [
    "mydb = mysql.connector.connect(host = 'localhost',\n",
    "                               user = 'root',\n",
    "                               password = '725@Mysql',\n",
    "                              database = 'companydb')\n",
    "\n",
    "cur = mydb.cursor()\n",
    "\n",
    "query = \"select * from employees\"\n",
    "cur.execute(query)\n",
    "\n",
    "result = cur.fetchall()\n",
    "for res in result:\n",
    "    print(res)"
   ]
  },
  {
   "cell_type": "code",
   "execution_count": 31,
   "id": "8b2fec7a-b3bc-4e5f-9669-143331a54212",
   "metadata": {},
   "outputs": [
    {
     "name": "stdout",
     "output_type": "stream",
     "text": [
      "Salary Updated sucessfully\n"
     ]
    }
   ],
   "source": [
    "#update table_name set column_name = value where condition\n",
    "\n",
    "mydb = mysql.connector.connect(host = 'localhost',\n",
    "                               user = 'root',\n",
    "                               password = '725@Mysql',\n",
    "                              database = 'companydb')\n",
    "\n",
    "cur = mydb.cursor()\n",
    "\n",
    "query = \"update employees set salary = 75000 where employee_id=1\"\n",
    "\n",
    "cur.execute(query)\n",
    "\n",
    "mydb.commit()\n",
    "\n",
    "print(\"Salary Updated sucessfully\")"
   ]
  },
  {
   "cell_type": "code",
   "execution_count": 32,
   "id": "a20fd9fe-852c-498e-94ac-6672651a31a8",
   "metadata": {},
   "outputs": [
    {
     "name": "stdout",
     "output_type": "stream",
     "text": [
      "Salary Updated sucessfully\n"
     ]
    }
   ],
   "source": [
    "#update table_name set column_name = value where condition\n",
    "\n",
    "mydb = mysql.connector.connect(host = 'localhost',\n",
    "                               user = 'root',\n",
    "                               password = '725@Mysql',\n",
    "                              database = 'companydb')\n",
    "\n",
    "cur = mydb.cursor()\n",
    "\n",
    "query = \"update employees set salary = salary + 0.1*salary\"\n",
    "\n",
    "cur.execute(query)\n",
    "\n",
    "mydb.commit()\n",
    "\n",
    "print(\"Salary Updated sucessfully\")"
   ]
  },
  {
   "cell_type": "code",
   "execution_count": 34,
   "id": "5ae44bb1-7370-4a21-8755-b599c78aad56",
   "metadata": {},
   "outputs": [
    {
     "name": "stdout",
     "output_type": "stream",
     "text": [
      "Salary Updated sucessfully\n"
     ]
    }
   ],
   "source": [
    "#update table_name set column_name = value where condition\n",
    "\n",
    "mydb = mysql.connector.connect(host = 'localhost',\n",
    "                               user = 'root',\n",
    "                               password = '725@Mysql',\n",
    "                              database = 'companydb')\n",
    "\n",
    "cur = mydb.cursor()\n",
    "\n",
    "query = \"update employees set salary = salary + 5000 where salary < 50000\"\n",
    "\n",
    "cur.execute(query)\n",
    "\n",
    "mydb.commit()\n",
    "\n",
    "print(\"Salary Updated sucessfully\")"
   ]
  },
  {
   "cell_type": "code",
   "execution_count": 35,
   "id": "18b2c63f-c8c0-4aa8-b38e-463bb747a4cb",
   "metadata": {},
   "outputs": [
    {
     "name": "stdout",
     "output_type": "stream",
     "text": [
      "Employee Id 1 details deleted sucessfully\n"
     ]
    }
   ],
   "source": [
    "mydb = mysql.connector.connect(host = 'localhost',\n",
    "                               user = 'root',\n",
    "                               password = '725@Mysql',\n",
    "                              database = 'companydb')\n",
    "\n",
    "cur = mydb.cursor()\n",
    "\n",
    "query = \"delete from employees where employee_id=1\"\n",
    "\n",
    "cur.execute(query)\n",
    "\n",
    "mydb.commit()\n",
    "\n",
    "print(\"Employee Id 1 details deleted sucessfully\")"
   ]
  },
  {
   "cell_type": "code",
   "execution_count": 39,
   "id": "38f9f281-de25-4889-b55a-e4d89af7e445",
   "metadata": {},
   "outputs": [
    {
     "name": "stdout",
     "output_type": "stream",
     "text": [
      "employees_2 created sucessfully\n"
     ]
    }
   ],
   "source": [
    "mydb = mysql.connector.connect(host = 'localhost',\n",
    "                               user = 'root',\n",
    "                               password = '725@Mysql',\n",
    "                              database = 'companydb')\n",
    "\n",
    "cur = mydb.cursor()\n",
    "\n",
    "query = \"create table employees_2 like employees\"\n",
    "\n",
    "cur.execute(query)\n",
    "\n",
    "mydb.commit()\n",
    "\n",
    "print(\"employees_2 created sucessfully\")"
   ]
  },
  {
   "cell_type": "code",
   "execution_count": 40,
   "id": "478ea16f-7ce9-4f86-a488-d2fe1846fe8b",
   "metadata": {},
   "outputs": [
    {
     "name": "stdout",
     "output_type": "stream",
     "text": [
      "employees_2 updated sucessfully\n"
     ]
    }
   ],
   "source": [
    "mydb = mysql.connector.connect(host = 'localhost',\n",
    "                               user = 'root',\n",
    "                               password = '725@Mysql',\n",
    "                              database = 'companydb')\n",
    "\n",
    "cur = mydb.cursor()\n",
    "\n",
    "query = \"insert into employees_2 select * from employees\"\n",
    "\n",
    "cur.execute(query)\n",
    "\n",
    "mydb.commit()\n",
    "\n",
    "print(\"employees_2 updated sucessfully\")"
   ]
  },
  {
   "cell_type": "markdown",
   "id": "399dd267-7bd1-4e28-b77b-67f1f94af5d6",
   "metadata": {},
   "source": [
    "**Table**\n",
    "* A database object that stores data in rows and columns. "
   ]
  },
  {
   "cell_type": "markdown",
   "id": "86e23422-bd02-429e-a262-ccaea8e9bff7",
   "metadata": {},
   "source": [
    "**View**\n",
    "\n",
    "        *  It is a virtual table that is based on the result-set of a SQL query. \n",
    "        *  It doesn't stores data physically, instead it dynamically retrives data from one or more table when queried\n",
    "        *  We use view to simplify complex queries, provide security by restrictiong access to the specific data, and present data in specific format."
   ]
  },
  {
   "cell_type": "code",
   "execution_count": 2,
   "id": "4d813890-10df-47b3-b88d-0ec41f6fd97f",
   "metadata": {},
   "outputs": [
    {
     "name": "stdout",
     "output_type": "stream",
     "text": [
      "(2, 'Rohit', 'Sharma', datetime.datetime(2024, 6, 18, 9, 10, 8), 101, Decimal('60500.55'))\n",
      "(3, 'Rishabh', 'Pant', datetime.datetime(2024, 6, 18, 9, 10, 8), 102, Decimal('54500.55'))\n",
      "(4, 'Ravindra', 'Jadeja', datetime.datetime(2024, 6, 18, 9, 10, 8), 102, Decimal('71500.55'))\n"
     ]
    }
   ],
   "source": [
    "import mysql.connector\n",
    "\n",
    "mydb = mysql.connector.connect(host = 'localhost',\n",
    "                               user = 'root',\n",
    "                               password = '725@Mysql',\n",
    "                              database = 'companydb')\n",
    "\n",
    "cur = mydb.cursor()\n",
    "\n",
    "query = \"select * from employees\"\n",
    "cur.execute(query)\n",
    "\n",
    "result = cur.fetchall()\n",
    "for res in result:\n",
    "    print(res)"
   ]
  },
  {
   "cell_type": "code",
   "execution_count": 3,
   "id": "b5389bbd-3896-40e7-aa84-ae8d0d51a7c4",
   "metadata": {},
   "outputs": [
    {
     "name": "stdout",
     "output_type": "stream",
     "text": [
      "View created successfully\n"
     ]
    }
   ],
   "source": [
    "import mysql.connector\n",
    "\n",
    "mydb = mysql.connector.connect(host = 'localhost',\n",
    "                               user = 'root',\n",
    "                               password = '725@Mysql',\n",
    "                              database = 'companydb')\n",
    "\n",
    "cur = mydb.cursor()\n",
    "\n",
    "query = \"create view EmployeeNameSalary as select first_name,last_name,salary from employees\"\n",
    "\n",
    "cur.execute(query)\n",
    "\n",
    "print(\"View created successfully\")\n",
    "\n",
    "mydb.commit()"
   ]
  },
  {
   "cell_type": "code",
   "execution_count": 6,
   "id": "a1bb18af-88f6-4b21-9272-dada41a6039f",
   "metadata": {},
   "outputs": [
    {
     "name": "stdout",
     "output_type": "stream",
     "text": [
      "('Rohit', 'Sharma', Decimal('60500.55'))\n",
      "('Rishabh', 'Pant', Decimal('54500.55'))\n",
      "('Ravindra', 'Jadeja', Decimal('71500.55'))\n"
     ]
    }
   ],
   "source": [
    "import mysql.connector\n",
    "\n",
    "mydb = mysql.connector.connect(host = 'localhost',\n",
    "                               user = 'root',\n",
    "                               password = '725@Mysql',\n",
    "                              database = 'companydb')\n",
    "\n",
    "cur = mydb.cursor()\n",
    "\n",
    "query = \"select * from EmployeeNameSalary\"\n",
    "cur.execute(query)\n",
    "\n",
    "result = cur.fetchall()\n",
    "for res in result:\n",
    "    print(res)\n",
    "mydb.commit()"
   ]
  },
  {
   "cell_type": "code",
   "execution_count": 7,
   "id": "76a62596-e763-4114-97c6-c8d494a2c60c",
   "metadata": {},
   "outputs": [
    {
     "name": "stdout",
     "output_type": "stream",
     "text": [
      "('employee_id', 'int', 'NO', 'PRI', None, '')\n",
      "('first_name', 'varchar(20)', 'YES', '', None, '')\n",
      "('last_name', 'varchar(20)', 'YES', '', None, '')\n",
      "('hire_date', 'datetime', 'YES', '', None, '')\n",
      "('dept_id', 'int', 'YES', '', None, '')\n",
      "('salary', 'decimal(9,2)', 'YES', '', None, '')\n"
     ]
    }
   ],
   "source": [
    "import mysql.connector\n",
    "\n",
    "mydb = mysql.connector.connect(host = 'localhost',\n",
    "                               user = 'root',\n",
    "                               password = '725@Mysql',\n",
    "                              database = 'companydb')\n",
    "\n",
    "cur = mydb.cursor()\n",
    "\n",
    "query = \"describe employees\"\n",
    "\n",
    "cur.execute(query)\n",
    "\n",
    "result = cur.fetchall()\n",
    "for res in result:\n",
    "    print(res)"
   ]
  },
  {
   "cell_type": "code",
   "execution_count": 8,
   "id": "c856281e-d45b-44f4-bdac-74db91812eed",
   "metadata": {},
   "outputs": [],
   "source": [
    "#to add a new column\n",
    "\n",
    "import mysql.connector\n",
    "\n",
    "mydb = mysql.connector.connect(host = 'localhost',\n",
    "                               user = 'root',\n",
    "                               password = '725@Mysql',\n",
    "                              database = 'companydb')\n",
    "\n",
    "cur = mydb.cursor()\n",
    "\n",
    "query = \"alter table employees add column experience integer(4)\"\n",
    "\n",
    "cur.execute(query)\n",
    "mydb.commit()"
   ]
  },
  {
   "cell_type": "code",
   "execution_count": 9,
   "id": "aef59a79-56d7-4354-b478-58e28a55911f",
   "metadata": {},
   "outputs": [
    {
     "name": "stdout",
     "output_type": "stream",
     "text": [
      "('employee_id', 'int', 'NO', 'PRI', None, '')\n",
      "('first_name', 'varchar(20)', 'YES', '', None, '')\n",
      "('last_name', 'varchar(20)', 'YES', '', None, '')\n",
      "('hire_date', 'datetime', 'YES', '', None, '')\n",
      "('dept_id', 'int', 'YES', '', None, '')\n",
      "('salary', 'decimal(9,2)', 'YES', '', None, '')\n",
      "('experience', 'int', 'YES', '', None, '')\n"
     ]
    }
   ],
   "source": [
    "import mysql.connector\n",
    "\n",
    "mydb = mysql.connector.connect(host = 'localhost',\n",
    "                               user = 'root',\n",
    "                               password = '725@Mysql',\n",
    "                              database = 'companydb')\n",
    "\n",
    "cur = mydb.cursor()\n",
    "\n",
    "query = \"describe employees\"\n",
    "\n",
    "cur.execute(query)\n",
    "\n",
    "result = cur.fetchall()\n",
    "for res in result:\n",
    "    print(res)"
   ]
  },
  {
   "cell_type": "code",
   "execution_count": 10,
   "id": "fe68e337-cb95-4a9e-964d-c17455350a85",
   "metadata": {},
   "outputs": [],
   "source": [
    "#to add a new column\n",
    "\n",
    "import mysql.connector\n",
    "\n",
    "mydb = mysql.connector.connect(host = 'localhost',\n",
    "                               user = 'root',\n",
    "                               password = '725@Mysql',\n",
    "                              database = 'companydb')\n",
    "\n",
    "cur = mydb.cursor()\n",
    "\n",
    "query = \"alter table employees add column email varchar(40) after dept_id\"\n",
    "\n",
    "cur.execute(query)\n",
    "mydb.commit()"
   ]
  },
  {
   "cell_type": "code",
   "execution_count": 11,
   "id": "38443a14-fd9c-4d94-9bbe-1959f4ede941",
   "metadata": {},
   "outputs": [
    {
     "name": "stdout",
     "output_type": "stream",
     "text": [
      "('employee_id', 'int', 'NO', 'PRI', None, '')\n",
      "('first_name', 'varchar(20)', 'YES', '', None, '')\n",
      "('last_name', 'varchar(20)', 'YES', '', None, '')\n",
      "('hire_date', 'datetime', 'YES', '', None, '')\n",
      "('dept_id', 'int', 'YES', '', None, '')\n",
      "('email', 'varchar(40)', 'YES', '', None, '')\n",
      "('salary', 'decimal(9,2)', 'YES', '', None, '')\n",
      "('experience', 'int', 'YES', '', None, '')\n"
     ]
    }
   ],
   "source": [
    "import mysql.connector\n",
    "\n",
    "mydb = mysql.connector.connect(host = 'localhost',\n",
    "                               user = 'root',\n",
    "                               password = '725@Mysql',\n",
    "                              database = 'companydb')\n",
    "\n",
    "cur = mydb.cursor()\n",
    "\n",
    "query = \"describe employees\"\n",
    "\n",
    "cur.execute(query)\n",
    "\n",
    "result = cur.fetchall()\n",
    "for res in result:\n",
    "    print(res)"
   ]
  },
  {
   "cell_type": "code",
   "execution_count": 12,
   "id": "f3938d08-8156-4c60-bd55-22d84f5d0f87",
   "metadata": {},
   "outputs": [],
   "source": [
    "#to add a new column\n",
    "\n",
    "import mysql.connector\n",
    "\n",
    "mydb = mysql.connector.connect(host = 'localhost',\n",
    "                               user = 'root',\n",
    "                               password = '725@Mysql',\n",
    "                              database = 'companydb')\n",
    "\n",
    "cur = mydb.cursor()\n",
    "\n",
    "query = \"alter table employees add column emp_new_id int first\"\n",
    "\n",
    "cur.execute(query)\n",
    "mydb.commit()"
   ]
  },
  {
   "cell_type": "code",
   "execution_count": 13,
   "id": "7105a6c1-f0a7-4bfe-b83a-f8a320bf6b31",
   "metadata": {},
   "outputs": [
    {
     "name": "stdout",
     "output_type": "stream",
     "text": [
      "('emp_new_id', 'int', 'YES', '', None, '')\n",
      "('employee_id', 'int', 'NO', 'PRI', None, '')\n",
      "('first_name', 'varchar(20)', 'YES', '', None, '')\n",
      "('last_name', 'varchar(20)', 'YES', '', None, '')\n",
      "('hire_date', 'datetime', 'YES', '', None, '')\n",
      "('dept_id', 'int', 'YES', '', None, '')\n",
      "('email', 'varchar(40)', 'YES', '', None, '')\n",
      "('salary', 'decimal(9,2)', 'YES', '', None, '')\n",
      "('experience', 'int', 'YES', '', None, '')\n"
     ]
    }
   ],
   "source": [
    "import mysql.connector\n",
    "\n",
    "mydb = mysql.connector.connect(host = 'localhost',\n",
    "                               user = 'root',\n",
    "                               password = '725@Mysql',\n",
    "                              database = 'companydb')\n",
    "\n",
    "cur = mydb.cursor()\n",
    "\n",
    "query = \"describe employees\"\n",
    "\n",
    "cur.execute(query)\n",
    "\n",
    "result = cur.fetchall()\n",
    "for res in result:\n",
    "    print(res)"
   ]
  },
  {
   "cell_type": "code",
   "execution_count": 14,
   "id": "9a5982f0-6dc4-465a-9de5-fec300159aaa",
   "metadata": {},
   "outputs": [],
   "source": [
    "#Delete or remove or drop a specific data column\n",
    "\n",
    "mydb = mysql.connector.connect(host = 'localhost',\n",
    "                               user = 'root',\n",
    "                               password = '725@Mysql',\n",
    "                              database = 'companydb')\n",
    "\n",
    "cur = mydb.cursor()\n",
    "\n",
    "query = \"alter table employees drop column employee_id\"\n",
    "\n",
    "cur.execute(query)\n",
    "\n",
    "mydb.commit()"
   ]
  },
  {
   "cell_type": "code",
   "execution_count": 15,
   "id": "8a71200e-3ea0-4260-9e44-348123885b24",
   "metadata": {},
   "outputs": [
    {
     "name": "stdout",
     "output_type": "stream",
     "text": [
      "('emp_new_id', 'int', 'YES', '', None, '')\n",
      "('first_name', 'varchar(20)', 'YES', '', None, '')\n",
      "('last_name', 'varchar(20)', 'YES', '', None, '')\n",
      "('hire_date', 'datetime', 'YES', '', None, '')\n",
      "('dept_id', 'int', 'YES', '', None, '')\n",
      "('email', 'varchar(40)', 'YES', '', None, '')\n",
      "('salary', 'decimal(9,2)', 'YES', '', None, '')\n",
      "('experience', 'int', 'YES', '', None, '')\n"
     ]
    }
   ],
   "source": [
    "import mysql.connector\n",
    "\n",
    "mydb = mysql.connector.connect(host = 'localhost',\n",
    "                               user = 'root',\n",
    "                               password = '725@Mysql',\n",
    "                              database = 'companydb')\n",
    "\n",
    "cur = mydb.cursor()\n",
    "\n",
    "query = \"describe employees\"\n",
    "\n",
    "cur.execute(query)\n",
    "\n",
    "result = cur.fetchall()\n",
    "for res in result:\n",
    "    print(res)"
   ]
  },
  {
   "cell_type": "code",
   "execution_count": 16,
   "id": "513a8041-e9f3-48fd-b0d1-b332d83a4ad6",
   "metadata": {},
   "outputs": [
    {
     "name": "stdout",
     "output_type": "stream",
     "text": [
      "(None, 'Rohit', 'Sharma', datetime.datetime(2024, 6, 18, 9, 10, 8), 101, None, Decimal('60500.55'), None)\n",
      "(None, 'Rishabh', 'Pant', datetime.datetime(2024, 6, 18, 9, 10, 8), 102, None, Decimal('54500.55'), None)\n",
      "(None, 'Ravindra', 'Jadeja', datetime.datetime(2024, 6, 18, 9, 10, 8), 102, None, Decimal('71500.55'), None)\n"
     ]
    }
   ],
   "source": [
    "import mysql.connector\n",
    "\n",
    "mydb = mysql.connector.connect(host = 'localhost',\n",
    "                               user = 'root',\n",
    "                               password = '725@Mysql',\n",
    "                              database = 'companydb')\n",
    "\n",
    "cur = mydb.cursor()\n",
    "\n",
    "query = \"select * from employees\"\n",
    "cur.execute(query)\n",
    "\n",
    "result = cur.fetchall()\n",
    "for res in result:\n",
    "    print(res)"
   ]
  },
  {
   "cell_type": "code",
   "execution_count": 24,
   "id": "52911b27-a6bc-4a96-9bf0-72ce4b3b6733",
   "metadata": {},
   "outputs": [],
   "source": [
    "#Update emp_new_id\n",
    "\n",
    "mydb = mysql.connector.connect(host = 'localhost',\n",
    "                               user = 'root',\n",
    "                               password = '725@Mysql',\n",
    "                              database = 'companydb')\n",
    "\n",
    "cur = mydb.cursor()\n",
    "\n",
    "#query = \"update employees set emp_new_id=1 where first_name='Rohit'\"\n",
    "#query = \"update employees set emp_new_id=2 where first_name='Rishabh'\"\n",
    "query = \"update employees set emp_new_id=3 where first_name='Ravindra'\"\n",
    "\n",
    "\n",
    "cur.execute(query)\n",
    "\n",
    "mydb.commit()"
   ]
  },
  {
   "cell_type": "code",
   "execution_count": 26,
   "id": "021df83b-29b8-46bc-beaa-eda05c719cd6",
   "metadata": {},
   "outputs": [
    {
     "name": "stdout",
     "output_type": "stream",
     "text": [
      "2024-06-22 10:40:25.843704\n"
     ]
    }
   ],
   "source": [
    "import datetime\n",
    "print(datetime.datetime.now())"
   ]
  },
  {
   "cell_type": "code",
   "execution_count": 25,
   "id": "a23822e1-2e4a-4c9c-82be-457c86216163",
   "metadata": {},
   "outputs": [
    {
     "name": "stdout",
     "output_type": "stream",
     "text": [
      "(1, 'Rohit', 'Sharma', datetime.datetime(2024, 6, 18, 9, 10, 8), 101, None, Decimal('60500.55'), None)\n",
      "(2, 'Rishabh', 'Pant', datetime.datetime(2024, 6, 18, 9, 10, 8), 102, None, Decimal('54500.55'), None)\n",
      "(3, 'Ravindra', 'Jadeja', datetime.datetime(2024, 6, 18, 9, 10, 8), 102, None, Decimal('71500.55'), None)\n"
     ]
    }
   ],
   "source": [
    "mydb = mysql.connector.connect(host = 'localhost',\n",
    "                               user = 'root',\n",
    "                               password = '725@Mysql',\n",
    "                              database = 'companydb')\n",
    "\n",
    "cur = mydb.cursor()\n",
    "\n",
    "query = \"select * from employees\"\n",
    "cur.execute(query)\n",
    "\n",
    "result = cur.fetchall()\n",
    "for res in result:\n",
    "    print(res)"
   ]
  },
  {
   "cell_type": "code",
   "execution_count": 30,
   "id": "d11e27f0-f0c9-4db8-9643-904b90910576",
   "metadata": {},
   "outputs": [
    {
     "name": "stdout",
     "output_type": "stream",
     "text": [
      "('emp_new_id', 'int', 'YES', '', None, '')\n",
      "('first_name', 'varchar(20)', 'YES', '', None, '')\n",
      "('last_name', 'varchar(20)', 'YES', '', None, '')\n",
      "('hire_date', 'datetime', 'YES', '', None, '')\n",
      "('dept_id', 'int', 'YES', '', None, '')\n",
      "('email', 'varchar(40)', 'YES', '', None, '')\n",
      "('salary', 'decimal(9,2)', 'YES', '', None, '')\n",
      "('experience', 'int', 'YES', '', None, '')\n"
     ]
    }
   ],
   "source": [
    "import mysql.connector\n",
    "\n",
    "mydb = mysql.connector.connect(host = 'localhost',\n",
    "                               user = 'root',\n",
    "                               password = '725@Mysql',\n",
    "                              database = 'companydb')\n",
    "\n",
    "cur = mydb.cursor()\n",
    "\n",
    "query = \"describe employees\"\n",
    "\n",
    "cur.execute(query)\n",
    "\n",
    "result = cur.fetchall()\n",
    "for res in result:\n",
    "    print(res)"
   ]
  },
  {
   "cell_type": "code",
   "execution_count": 33,
   "id": "3a7103a9-5cdb-4a4f-8fba-ad5c85e917f8",
   "metadata": {},
   "outputs": [],
   "source": [
    "mydb = mysql.connector.connect(host = 'localhost',\n",
    "                               user = 'root',\n",
    "                               password = '725@Mysql',\n",
    "                              database = 'companydb')\n",
    "\n",
    "cur = mydb.cursor()\n",
    "\n",
    "query = \"\"\"\n",
    "insert into employees (emp_new_id,first_name,last_name,dept_id,email,salary,experience) \n",
    "values (5, 'Axar' , 'Patel', 103 ,'axar@abc.com',56000.75,7)\n",
    "\"\"\"\n",
    "\n",
    "cur.execute(query)\n",
    "\n",
    "mydb.commit()"
   ]
  },
  {
   "cell_type": "code",
   "execution_count": 34,
   "id": "e2a251b2-dc2d-4a13-b066-a150d42ce5bf",
   "metadata": {},
   "outputs": [
    {
     "name": "stdout",
     "output_type": "stream",
     "text": [
      "(1, 'Rohit', 'Sharma', datetime.datetime(2024, 6, 18, 9, 10, 8), 101, None, Decimal('60500.55'), None)\n",
      "(2, 'Rishabh', 'Pant', datetime.datetime(2024, 6, 18, 9, 10, 8), 102, None, Decimal('54500.55'), None)\n",
      "(3, 'Ravindra', 'Jadeja', datetime.datetime(2024, 6, 18, 9, 10, 8), 102, None, Decimal('71500.55'), None)\n",
      "(4, 'Virat', 'kohli', None, 101, 'virat@abc.com', Decimal('80000.75'), 12)\n",
      "(5, 'Axar', 'Patel', None, 103, 'axar@abc.com', Decimal('56000.75'), 7)\n"
     ]
    }
   ],
   "source": [
    "mydb = mysql.connector.connect(host = 'localhost',\n",
    "                               user = 'root',\n",
    "                               password = '725@Mysql',\n",
    "                              database = 'companydb')\n",
    "\n",
    "cur = mydb.cursor()\n",
    "\n",
    "query = \"select * from employees\"\n",
    "cur.execute(query)\n",
    "\n",
    "result = cur.fetchall()\n",
    "for res in result:\n",
    "    print(res)"
   ]
  },
  {
   "cell_type": "code",
   "execution_count": 35,
   "id": "a0d854ee-7aa9-46bb-b48c-cf39a7e28cda",
   "metadata": {},
   "outputs": [
    {
     "name": "stdout",
     "output_type": "stream",
     "text": [
      "(2, 'Rishabh', 'Pant', datetime.datetime(2024, 6, 18, 9, 10, 8), 102, None, Decimal('54500.55'), None)\n",
      "(5, 'Axar', 'Patel', None, 103, 'axar@abc.com', Decimal('56000.75'), 7)\n",
      "(1, 'Rohit', 'Sharma', datetime.datetime(2024, 6, 18, 9, 10, 8), 101, None, Decimal('60500.55'), None)\n",
      "(3, 'Ravindra', 'Jadeja', datetime.datetime(2024, 6, 18, 9, 10, 8), 102, None, Decimal('71500.55'), None)\n",
      "(4, 'Virat', 'kohli', None, 101, 'virat@abc.com', Decimal('80000.75'), 12)\n"
     ]
    }
   ],
   "source": [
    "mydb = mysql.connector.connect(host = 'localhost',\n",
    "                               user = 'root',\n",
    "                               password = '725@Mysql',\n",
    "                              database = 'companydb')\n",
    "\n",
    "cur = mydb.cursor()\n",
    "\n",
    "query = \"select * from employees order by salary\"\n",
    "cur.execute(query)\n",
    "\n",
    "result = cur.fetchall()\n",
    "for res in result:\n",
    "    print(res)"
   ]
  },
  {
   "cell_type": "code",
   "execution_count": 39,
   "id": "2094dd1c-ae9b-43e8-b529-984704e79cb2",
   "metadata": {},
   "outputs": [
    {
     "name": "stdout",
     "output_type": "stream",
     "text": [
      "(2, 'Rishabh', 'Pant', datetime.datetime(2024, 6, 18, 9, 10, 8), 102, None, Decimal('54500.55'), None)\n"
     ]
    }
   ],
   "source": [
    "mydb = mysql.connector.connect(host = 'localhost',\n",
    "                               user = 'root',\n",
    "                               password = '725@Mysql',\n",
    "                              database = 'companydb')\n",
    "\n",
    "cur = mydb.cursor()\n",
    "\n",
    "query = \"select * from employees order by salary limit 1\"\n",
    "cur.execute(query)\n",
    "\n",
    "result = cur.fetchall()\n",
    "for res in result:\n",
    "    print(res)"
   ]
  },
  {
   "cell_type": "code",
   "execution_count": 40,
   "id": "932a4f72-7693-4cdf-b9d4-1d4fd5e51ecf",
   "metadata": {},
   "outputs": [],
   "source": [
    "mydb = mysql.connector.connect(host = 'localhost',\n",
    "                               user = 'root',\n",
    "                               password = '725@Mysql',\n",
    "                              database = 'companydb')\n",
    "\n",
    "cur = mydb.cursor()\n",
    "\n",
    "query = \"update employees set dept_id = 103 order by salary limit 1\"\n",
    "cur.execute(query)\n",
    "\n",
    "mydb.commit()"
   ]
  },
  {
   "cell_type": "code",
   "execution_count": 41,
   "id": "74b20f9a-e5f0-4758-b338-cf40c404e34e",
   "metadata": {},
   "outputs": [
    {
     "name": "stdout",
     "output_type": "stream",
     "text": [
      "(2, 'Rishabh', 'Pant', datetime.datetime(2024, 6, 18, 9, 10, 8), 103, None, Decimal('54500.55'), None)\n",
      "(5, 'Axar', 'Patel', None, 103, 'axar@abc.com', Decimal('56000.75'), 7)\n",
      "(1, 'Rohit', 'Sharma', datetime.datetime(2024, 6, 18, 9, 10, 8), 101, None, Decimal('60500.55'), None)\n",
      "(3, 'Ravindra', 'Jadeja', datetime.datetime(2024, 6, 18, 9, 10, 8), 102, None, Decimal('71500.55'), None)\n",
      "(4, 'Virat', 'kohli', None, 101, 'virat@abc.com', Decimal('80000.75'), 12)\n"
     ]
    }
   ],
   "source": [
    "mydb = mysql.connector.connect(host = 'localhost',\n",
    "                               user = 'root',\n",
    "                               password = '725@Mysql',\n",
    "                              database = 'companydb')\n",
    "\n",
    "cur = mydb.cursor()\n",
    "\n",
    "query = \"select * from employees order by salary\"\n",
    "cur.execute(query)\n",
    "\n",
    "result = cur.fetchall()\n",
    "for res in result:\n",
    "    print(res)"
   ]
  },
  {
   "cell_type": "code",
   "execution_count": 42,
   "id": "1238b5e8-88e8-44c3-bb60-1ac785f555e0",
   "metadata": {},
   "outputs": [
    {
     "name": "stdout",
     "output_type": "stream",
     "text": [
      "(Decimal('54500.55'),)\n"
     ]
    }
   ],
   "source": [
    "mydb = mysql.connector.connect(host = 'localhost',\n",
    "                               user = 'root',\n",
    "                               password = '725@Mysql',\n",
    "                              database = 'companydb')\n",
    "\n",
    "cur = mydb.cursor()\n",
    "\n",
    "query = \"select salary from employees order by salary limit 1\"\n",
    "cur.execute(query)\n",
    "\n",
    "result = cur.fetchall()\n",
    "for res in result:\n",
    "    print(res)"
   ]
  },
  {
   "cell_type": "code",
   "execution_count": 45,
   "id": "394d445f-7acf-4d81-9ccb-83527be7f70d",
   "metadata": {},
   "outputs": [
    {
     "name": "stdout",
     "output_type": "stream",
     "text": [
      "(Decimal('54500.55'),)\n"
     ]
    }
   ],
   "source": [
    "mydb = mysql.connector.connect(host = 'localhost',\n",
    "                               user = 'root',\n",
    "                               password = '725@Mysql',\n",
    "                              database = 'companydb')\n",
    "\n",
    "cur = mydb.cursor()\n",
    "\n",
    "query = \"select min(salary) from employees as min_salary\"\n",
    "cur.execute(query)\n",
    "\n",
    "result = cur.fetchall()\n",
    "for res in result:\n",
    "    print(res)"
   ]
  },
  {
   "cell_type": "code",
   "execution_count": 49,
   "id": "5293a671-c052-415a-95b2-d5e087415c05",
   "metadata": {},
   "outputs": [
    {
     "name": "stdout",
     "output_type": "stream",
     "text": [
      "(Decimal('54500.55'),)\n"
     ]
    }
   ],
   "source": [
    "mydb = mysql.connector.connect(host = 'localhost',\n",
    "                               user = 'root',\n",
    "                               password = '725@Mysql',\n",
    "                              database = 'companydb')\n",
    "\n",
    "cur = mydb.cursor()\n",
    "\n",
    "query = \"select min_salary from (select min(salary) as min_salary from employees) as subquery\"\n",
    "cur.execute(query)\n",
    "\n",
    "result = cur.fetchall()\n",
    "for res in result:\n",
    "    print(res)"
   ]
  },
  {
   "cell_type": "code",
   "execution_count": 47,
   "id": "d16af198-9b39-4fb4-b5bd-208a17eb2225",
   "metadata": {},
   "outputs": [],
   "source": [
    "mydb = mysql.connector.connect(host = 'localhost',\n",
    "                               user = 'root',\n",
    "                               password = '725@Mysql',\n",
    "                              database = 'companydb')\n",
    "\n",
    "cur = mydb.cursor()\n",
    "\n",
    "query = \"\"\"\n",
    "update employees set dept_id = 101 where \n",
    "salary = (select min_salary from (select min(salary) as min_salary from employees) as subquery)\n",
    "\"\"\"\n",
    "\n",
    "cur.execute(query)\n",
    "mydb.commit()"
   ]
  },
  {
   "cell_type": "code",
   "execution_count": 48,
   "id": "7c00d802-d56d-49c9-8dff-d68e9af0eddf",
   "metadata": {},
   "outputs": [
    {
     "name": "stdout",
     "output_type": "stream",
     "text": [
      "(2, 'Rishabh', 'Pant', datetime.datetime(2024, 6, 18, 9, 10, 8), 101, None, Decimal('54500.55'), None)\n",
      "(5, 'Axar', 'Patel', None, 103, 'axar@abc.com', Decimal('56000.75'), 7)\n",
      "(1, 'Rohit', 'Sharma', datetime.datetime(2024, 6, 18, 9, 10, 8), 101, None, Decimal('60500.55'), None)\n",
      "(3, 'Ravindra', 'Jadeja', datetime.datetime(2024, 6, 18, 9, 10, 8), 102, None, Decimal('71500.55'), None)\n",
      "(4, 'Virat', 'kohli', None, 101, 'virat@abc.com', Decimal('80000.75'), 12)\n"
     ]
    }
   ],
   "source": [
    "mydb = mysql.connector.connect(host = 'localhost',\n",
    "                               user = 'root',\n",
    "                               password = '725@Mysql',\n",
    "                              database = 'companydb')\n",
    "\n",
    "cur = mydb.cursor()\n",
    "\n",
    "query = \"select * from employees order by salary\"\n",
    "cur.execute(query)\n",
    "\n",
    "result = cur.fetchall()\n",
    "for res in result:\n",
    "    print(res)"
   ]
  },
  {
   "cell_type": "code",
   "execution_count": 53,
   "id": "190c1245-86ac-44a6-a019-3d7b5ee084a4",
   "metadata": {},
   "outputs": [
    {
     "name": "stdout",
     "output_type": "stream",
     "text": [
      "('Ravindra', 'Jadeja', Decimal('71500.55'))\n",
      "('Virat', 'kohli', Decimal('80000.75'))\n"
     ]
    }
   ],
   "source": [
    "#access first_name,last_name & salary from the table where salary > avg(salary)\n",
    "mydb = mysql.connector.connect(host = 'localhost',\n",
    "                               user = 'root',\n",
    "                               password = '725@Mysql',\n",
    "                              database = 'companydb')\n",
    "\n",
    "cur = mydb.cursor()\n",
    "\n",
    "'''\n",
    "query = \"\"\"\n",
    "select avg(salary) from employees\n",
    "\"\"\"\n",
    "\n",
    "query = \"\"\"\n",
    "select first_name,last_name, salary from employees\n",
    "\"\"\"\n",
    "'''\n",
    "\n",
    "query = \"\"\"\n",
    "select first_name,last_name, salary from employees \n",
    "where salary > (select avg(salary) from employees)\n",
    "\"\"\"\n",
    "\n",
    "cur.execute(query)\n",
    "\n",
    "result = cur.fetchall()\n",
    "for res in result:\n",
    "    print(res)"
   ]
  },
  {
   "cell_type": "code",
   "execution_count": 54,
   "id": "352fa246-c120-4a23-9c11-ae905c655a17",
   "metadata": {},
   "outputs": [
    {
     "name": "stdout",
     "output_type": "stream",
     "text": [
      "('Rohit', 'Sharma', Decimal('60500.55'))\n",
      "('Rishabh', 'Pant', Decimal('54500.55'))\n",
      "('Ravindra', 'Jadeja', Decimal('71500.55'))\n",
      "('Virat', 'kohli', Decimal('80000.75'))\n",
      "('Axar', 'Patel', Decimal('56000.75'))\n"
     ]
    }
   ],
   "source": [
    "mydb = mysql.connector.connect(host = 'localhost',\n",
    "                               user = 'root',\n",
    "                               password = '725@Mysql',\n",
    "                              database = 'companydb')\n",
    "\n",
    "cur = mydb.cursor()\n",
    "\n",
    "query = \"select * from employeenamesalary\"\n",
    "\n",
    "cur.execute(query)\n",
    "\n",
    "result = cur.fetchall()\n",
    "for res in result:\n",
    "    print(res)"
   ]
  },
  {
   "cell_type": "code",
   "execution_count": null,
   "id": "1c9609b3-96ae-4f81-9496-f7c8aa9ff03d",
   "metadata": {},
   "outputs": [],
   "source": []
  }
 ],
 "metadata": {
  "kernelspec": {
   "display_name": "Python 3 (ipykernel)",
   "language": "python",
   "name": "python3"
  },
  "language_info": {
   "codemirror_mode": {
    "name": "ipython",
    "version": 3
   },
   "file_extension": ".py",
   "mimetype": "text/x-python",
   "name": "python",
   "nbconvert_exporter": "python",
   "pygments_lexer": "ipython3",
   "version": "3.9.0"
  }
 },
 "nbformat": 4,
 "nbformat_minor": 5
}
