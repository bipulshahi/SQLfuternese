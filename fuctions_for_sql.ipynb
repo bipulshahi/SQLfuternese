{
 "cells": [
  {
   "cell_type": "code",
   "execution_count": 25,
   "id": "0a18f5f3-48c8-42f6-983a-82d9ac3692a6",
   "metadata": {},
   "outputs": [],
   "source": [
    "import mysql.connector\n",
    "from mysql.connector import Error\n",
    "import pandas as pd"
   ]
  },
  {
   "cell_type": "code",
   "execution_count": 13,
   "id": "2e3320e7-9e62-4785-9f3a-eb505b1e3be9",
   "metadata": {},
   "outputs": [],
   "source": [
    "#function  to create a server connection\n",
    "\n",
    "def server_conn(host_name,user_name,user_password):\n",
    "    connection = None\n",
    "    try:\n",
    "        connection = mysql.connector.connect(host = host_name,\n",
    "                                            user = user_name,\n",
    "                                            passwd = user_password)\n",
    "        print(\"Server is connected\")\n",
    "    except Error as err:\n",
    "        print(\"Error - \", err)\n",
    "    return connection"
   ]
  },
  {
   "cell_type": "code",
   "execution_count": 4,
   "id": "eddcfec4-fdbd-4fa0-842b-9574560b0e59",
   "metadata": {},
   "outputs": [
    {
     "name": "stdout",
     "output_type": "stream",
     "text": [
      "Server is connected\n",
      "<mysql.connector.connection.MySQLConnection object at 0x7fb754e4d310>\n"
     ]
    }
   ],
   "source": [
    "connection = server_conn(\"127.0.0.1\",\"root\",\"725@Mysql\")\n",
    "print(connection)"
   ]
  },
  {
   "cell_type": "code",
   "execution_count": 8,
   "id": "00016159-aedb-4095-8ab7-6f51496a26cf",
   "metadata": {},
   "outputs": [],
   "source": [
    "#function to create database\n",
    "def create_db(connection,db_name):\n",
    "    cursor = connection.cursor()\n",
    "    try:\n",
    "        query = f\"create database if not exists {db_name}\"\n",
    "        cursor.execute(query)\n",
    "        print(\"Database created successfully\")\n",
    "    except Error as err:\n",
    "        print(\"Error-\", err)"
   ]
  },
  {
   "cell_type": "code",
   "execution_count": 10,
   "id": "77f1bb6f-150d-4715-b4f3-a6eb063ba6fa",
   "metadata": {},
   "outputs": [
    {
     "name": "stdout",
     "output_type": "stream",
     "text": [
      "Server is connected\n",
      "Database created successfully\n"
     ]
    }
   ],
   "source": [
    "#to create a database\n",
    "connection = server_conn(\"127.0.0.1\",\"root\",\"725@Mysql\")\n",
    "database_name = \"employee_delhi\"\n",
    "create_db(connection,database_name)"
   ]
  },
  {
   "cell_type": "code",
   "execution_count": 12,
   "id": "1486cb4e-f022-41e3-9f69-947602d6e1c0",
   "metadata": {},
   "outputs": [],
   "source": [
    "#function to connect with database\n",
    "\n",
    "def db_conn(host_name,user_name,user_password,db_name):\n",
    "    connection = None\n",
    "    try:\n",
    "        connection = mysql.connector.connect(host = host_name,\n",
    "                                            user = user_name,\n",
    "                                            passwd = user_password,\n",
    "                                            database = db_name)\n",
    "        print(\"Database is connected\")\n",
    "    except Error as err:\n",
    "        print(\"Error - \", err)\n",
    "    return connection"
   ]
  },
  {
   "cell_type": "code",
   "execution_count": 14,
   "id": "6d0d41a7-04da-449e-8c2f-21af4ab647d5",
   "metadata": {},
   "outputs": [
    {
     "name": "stdout",
     "output_type": "stream",
     "text": [
      "Database is connected\n",
      "<mysql.connector.connection.MySQLConnection object at 0x7fb754e4d400>\n"
     ]
    }
   ],
   "source": [
    "connection = db_conn(\"127.0.0.1\",\"root\",\"725@Mysql\",\"employee_delhi\")\n",
    "print(connection)"
   ]
  },
  {
   "cell_type": "code",
   "execution_count": 15,
   "id": "19ba959f-87aa-4daa-aac0-06e6d1b49e96",
   "metadata": {},
   "outputs": [],
   "source": [
    "#function to execute query\n",
    "def execute_query(connection,query):\n",
    "    cursor = connection.cursor()\n",
    "    try:\n",
    "        cursor.execute(query)\n",
    "        connection.commit()\n",
    "        print(\"Query executed successfully\")\n",
    "    except Error as err:\n",
    "        print(\"Error - \", err)"
   ]
  },
  {
   "cell_type": "code",
   "execution_count": 16,
   "id": "568210f4-2af5-4abd-bcf8-d57e485b45fa",
   "metadata": {},
   "outputs": [
    {
     "name": "stdout",
     "output_type": "stream",
     "text": [
      "Database is connected\n",
      "Query executed successfully\n"
     ]
    }
   ],
   "source": [
    "#create an employee order table\n",
    "\n",
    "create_ord_table = \"\"\"\n",
    "create table emp_orders(\n",
    "e_id int primary key,\n",
    "e_name varchar(30),\n",
    "date DATE,\n",
    "e_dept varchar(25),\n",
    "e_gender varchar(25),\n",
    "quantity int,\n",
    "amount decimal(7,2)\n",
    ")\n",
    "\"\"\"\n",
    "\n",
    "connection = db_conn(\"127.0.0.1\",\"root\",\"725@Mysql\",\"employee_delhi\")\n",
    "execute_query(connection,create_ord_table)"
   ]
  },
  {
   "cell_type": "code",
   "execution_count": 19,
   "id": "0ce5fbf7-cbed-4a2a-a720-6c8ba50aa351",
   "metadata": {},
   "outputs": [],
   "source": [
    "#insert data into table\n",
    "order_info = \"\"\"\n",
    "insert into emp_orders (e_id,e_name,date,e_dept,e_gender,quantity,amount)\n",
    "values\n",
    "(1,\"John\", \"2023-08-05\" , \"Production\" , \"Male\" , 2 , 2500.50),\n",
    "(2,\"Amrita\", \"2023-12-04\" , \"Research\" , \"Female\" , 3 , 4500.50),\n",
    "(5,\"Sameera\", \"2024-01-05\" , \"Production\" , \"Female\" , 1 , 1000.50),\n",
    "(7,\"Jessica\", \"2023-09-15\" , \"Development\" , \"Female\" , 5 , 5000.50),\n",
    "(6,\"Ajay\", \"2024-05-05\" , \"Development\" , \"Male\" , 2 , 2200.50),\n",
    "(4,\"Anil\", \"2024-04-03\" , \"Research\" , \"Male\" , 1 , 900.50)\n",
    "\"\"\""
   ]
  },
  {
   "cell_type": "code",
   "execution_count": 20,
   "id": "6cdb21a3-74a7-4504-8c99-76d0682c7e67",
   "metadata": {},
   "outputs": [
    {
     "name": "stdout",
     "output_type": "stream",
     "text": [
      "Database is connected\n",
      "Query executed successfully\n"
     ]
    }
   ],
   "source": [
    "connection = db_conn(\"127.0.0.1\",\"root\",\"725@Mysql\",\"employee_delhi\")\n",
    "execute_query(connection,order_info)"
   ]
  },
  {
   "cell_type": "code",
   "execution_count": 22,
   "id": "8215d64f-8dd7-489f-9737-72b6ca598db4",
   "metadata": {},
   "outputs": [],
   "source": [
    "#read function\n",
    "\n",
    "def read_table(connection, query):\n",
    "    cursor = connection.cursor()\n",
    "    result = None\n",
    "    try:\n",
    "        cursor.execute(query)\n",
    "        result = cursor.fetchall()\n",
    "    except Error as err:\n",
    "        print(\"Error - \", err)\n",
    "    return result"
   ]
  },
  {
   "cell_type": "code",
   "execution_count": 23,
   "id": "ad1d49c5-df8c-4055-9605-9e81fc18ee86",
   "metadata": {},
   "outputs": [
    {
     "name": "stdout",
     "output_type": "stream",
     "text": [
      "Database is connected\n",
      "(1, 'John', datetime.date(2023, 8, 5), 'Production', 'Male', 2, Decimal('2500.50'))\n",
      "(2, 'Amrita', datetime.date(2023, 12, 4), 'Research', 'Female', 3, Decimal('4500.50'))\n",
      "(4, 'Anil', datetime.date(2024, 4, 3), 'Research', 'Male', 1, Decimal('900.50'))\n",
      "(5, 'Sameera', datetime.date(2024, 1, 5), 'Production', 'Female', 1, Decimal('1000.50'))\n",
      "(6, 'Ajay', datetime.date(2024, 5, 5), 'Development', 'Male', 2, Decimal('2200.50'))\n",
      "(7, 'Jessica', datetime.date(2023, 9, 15), 'Development', 'Female', 5, Decimal('5000.50'))\n"
     ]
    }
   ],
   "source": [
    "query = \"select * from emp_orders\"\n",
    "\n",
    "connection = db_conn(\"127.0.0.1\",\"root\",\"725@Mysql\",\"employee_delhi\")\n",
    "results = read_table(connection , query)\n",
    "for res in results:\n",
    "    print(res)"
   ]
  },
  {
   "cell_type": "code",
   "execution_count": 27,
   "id": "3378089e-ec5e-432e-8f28-1835fb067a4f",
   "metadata": {},
   "outputs": [
    {
     "data": {
      "text/html": [
       "<div>\n",
       "<style scoped>\n",
       "    .dataframe tbody tr th:only-of-type {\n",
       "        vertical-align: middle;\n",
       "    }\n",
       "\n",
       "    .dataframe tbody tr th {\n",
       "        vertical-align: top;\n",
       "    }\n",
       "\n",
       "    .dataframe thead th {\n",
       "        text-align: right;\n",
       "    }\n",
       "</style>\n",
       "<table border=\"1\" class=\"dataframe\">\n",
       "  <thead>\n",
       "    <tr style=\"text-align: right;\">\n",
       "      <th></th>\n",
       "      <th>emp_id</th>\n",
       "      <th>Name</th>\n",
       "      <th>Date</th>\n",
       "      <th>Department</th>\n",
       "      <th>Gender</th>\n",
       "      <th>Quantity</th>\n",
       "      <th>Amount</th>\n",
       "    </tr>\n",
       "  </thead>\n",
       "  <tbody>\n",
       "    <tr>\n",
       "      <th>0</th>\n",
       "      <td>1</td>\n",
       "      <td>John</td>\n",
       "      <td>2023-08-05</td>\n",
       "      <td>Production</td>\n",
       "      <td>Male</td>\n",
       "      <td>2</td>\n",
       "      <td>2500.50</td>\n",
       "    </tr>\n",
       "    <tr>\n",
       "      <th>1</th>\n",
       "      <td>2</td>\n",
       "      <td>Amrita</td>\n",
       "      <td>2023-12-04</td>\n",
       "      <td>Research</td>\n",
       "      <td>Female</td>\n",
       "      <td>3</td>\n",
       "      <td>4500.50</td>\n",
       "    </tr>\n",
       "    <tr>\n",
       "      <th>2</th>\n",
       "      <td>4</td>\n",
       "      <td>Anil</td>\n",
       "      <td>2024-04-03</td>\n",
       "      <td>Research</td>\n",
       "      <td>Male</td>\n",
       "      <td>1</td>\n",
       "      <td>900.50</td>\n",
       "    </tr>\n",
       "    <tr>\n",
       "      <th>3</th>\n",
       "      <td>5</td>\n",
       "      <td>Sameera</td>\n",
       "      <td>2024-01-05</td>\n",
       "      <td>Production</td>\n",
       "      <td>Female</td>\n",
       "      <td>1</td>\n",
       "      <td>1000.50</td>\n",
       "    </tr>\n",
       "    <tr>\n",
       "      <th>4</th>\n",
       "      <td>6</td>\n",
       "      <td>Ajay</td>\n",
       "      <td>2024-05-05</td>\n",
       "      <td>Development</td>\n",
       "      <td>Male</td>\n",
       "      <td>2</td>\n",
       "      <td>2200.50</td>\n",
       "    </tr>\n",
       "    <tr>\n",
       "      <th>5</th>\n",
       "      <td>7</td>\n",
       "      <td>Jessica</td>\n",
       "      <td>2023-09-15</td>\n",
       "      <td>Development</td>\n",
       "      <td>Female</td>\n",
       "      <td>5</td>\n",
       "      <td>5000.50</td>\n",
       "    </tr>\n",
       "  </tbody>\n",
       "</table>\n",
       "</div>"
      ],
      "text/plain": [
       "   emp_id     Name        Date   Department  Gender  Quantity   Amount\n",
       "0       1     John  2023-08-05   Production    Male         2  2500.50\n",
       "1       2   Amrita  2023-12-04     Research  Female         3  4500.50\n",
       "2       4     Anil  2024-04-03     Research    Male         1   900.50\n",
       "3       5  Sameera  2024-01-05   Production  Female         1  1000.50\n",
       "4       6     Ajay  2024-05-05  Development    Male         2  2200.50\n",
       "5       7  Jessica  2023-09-15  Development  Female         5  5000.50"
      ]
     },
     "execution_count": 27,
     "metadata": {},
     "output_type": "execute_result"
    }
   ],
   "source": [
    "\n",
    "emp_orders_info = []\n",
    "for res in results:\n",
    "    emp_orders_info.append(res)\n",
    "\n",
    "column_names = ['emp_id','Name','Date','Department','Gender','Quantity','Amount']\n",
    "\n",
    "df = pd.DataFrame(emp_orders_info , columns = column_names)\n",
    "df"
   ]
  },
  {
   "cell_type": "code",
   "execution_count": 28,
   "id": "ceb16f83-f427-4748-80e5-95e1e6ccf120",
   "metadata": {},
   "outputs": [
    {
     "data": {
      "text/html": [
       "<div>\n",
       "<style scoped>\n",
       "    .dataframe tbody tr th:only-of-type {\n",
       "        vertical-align: middle;\n",
       "    }\n",
       "\n",
       "    .dataframe tbody tr th {\n",
       "        vertical-align: top;\n",
       "    }\n",
       "\n",
       "    .dataframe thead th {\n",
       "        text-align: right;\n",
       "    }\n",
       "</style>\n",
       "<table border=\"1\" class=\"dataframe\">\n",
       "  <thead>\n",
       "    <tr style=\"text-align: right;\">\n",
       "      <th></th>\n",
       "      <th>mean</th>\n",
       "      <th>min</th>\n",
       "      <th>max</th>\n",
       "      <th>sum</th>\n",
       "      <th>count</th>\n",
       "    </tr>\n",
       "    <tr>\n",
       "      <th>Department</th>\n",
       "      <th></th>\n",
       "      <th></th>\n",
       "      <th></th>\n",
       "      <th></th>\n",
       "      <th></th>\n",
       "    </tr>\n",
       "  </thead>\n",
       "  <tbody>\n",
       "    <tr>\n",
       "      <th>Development</th>\n",
       "      <td>3600.5</td>\n",
       "      <td>2200.50</td>\n",
       "      <td>5000.50</td>\n",
       "      <td>7201.00</td>\n",
       "      <td>2</td>\n",
       "    </tr>\n",
       "    <tr>\n",
       "      <th>Production</th>\n",
       "      <td>1750.5</td>\n",
       "      <td>1000.50</td>\n",
       "      <td>2500.50</td>\n",
       "      <td>3501.00</td>\n",
       "      <td>2</td>\n",
       "    </tr>\n",
       "    <tr>\n",
       "      <th>Research</th>\n",
       "      <td>2700.5</td>\n",
       "      <td>900.50</td>\n",
       "      <td>4500.50</td>\n",
       "      <td>5401.00</td>\n",
       "      <td>2</td>\n",
       "    </tr>\n",
       "  </tbody>\n",
       "</table>\n",
       "</div>"
      ],
      "text/plain": [
       "               mean      min      max      sum  count\n",
       "Department                                           \n",
       "Development  3600.5  2200.50  5000.50  7201.00      2\n",
       "Production   1750.5  1000.50  2500.50  3501.00      2\n",
       "Research     2700.5   900.50  4500.50  5401.00      2"
      ]
     },
     "execution_count": 28,
     "metadata": {},
     "output_type": "execute_result"
    }
   ],
   "source": [
    "df.groupby('Department')['Amount'].agg(['mean','min','max','sum','count'])"
   ]
  },
  {
   "cell_type": "code",
   "execution_count": 29,
   "id": "52a976c0-4543-42f3-826a-af59deb2ce51",
   "metadata": {},
   "outputs": [
    {
     "name": "stdout",
     "output_type": "stream",
     "text": [
      "Database is connected\n",
      "(Decimal('900.50'),)\n"
     ]
    }
   ],
   "source": [
    "min_amount = \"select min(amount) from emp_orders\"\n",
    "\n",
    "connection = db_conn(\"127.0.0.1\",\"root\",\"725@Mysql\",\"employee_delhi\")\n",
    "results = read_table(connection , min_amount)\n",
    "for res in results:\n",
    "    print(res)"
   ]
  },
  {
   "cell_type": "code",
   "execution_count": 30,
   "id": "66a0b170-04da-4574-82c1-5aeca659ea0c",
   "metadata": {},
   "outputs": [
    {
     "name": "stdout",
     "output_type": "stream",
     "text": [
      "Database is connected\n",
      "(Decimal('2683.833333'),)\n"
     ]
    }
   ],
   "source": [
    "average_amount = \"select avg(amount) from emp_orders\"\n",
    "\n",
    "connection = db_conn(\"127.0.0.1\",\"root\",\"725@Mysql\",\"employee_delhi\")\n",
    "results = read_table(connection , average_amount)\n",
    "for res in results:\n",
    "    print(res)"
   ]
  },
  {
   "cell_type": "code",
   "execution_count": 32,
   "id": "749f02fc-91fc-4276-932b-30b2d72a3b77",
   "metadata": {},
   "outputs": [
    {
     "name": "stdout",
     "output_type": "stream",
     "text": [
      "Database is connected\n",
      "('Production', Decimal('1750.500000'))\n",
      "('Research', Decimal('2700.500000'))\n",
      "('Development', Decimal('3600.500000'))\n"
     ]
    }
   ],
   "source": [
    "average_amount = \"select e_dept,avg(amount) from emp_orders group by e_dept\"\n",
    "\n",
    "connection = db_conn(\"127.0.0.1\",\"root\",\"725@Mysql\",\"employee_delhi\")\n",
    "results = read_table(connection , average_amount)\n",
    "for res in results:\n",
    "    print(res)"
   ]
  },
  {
   "cell_type": "code",
   "execution_count": 40,
   "id": "077d7332-3595-42cd-a844-2658385b5b87",
   "metadata": {},
   "outputs": [
    {
     "name": "stdout",
     "output_type": "stream",
     "text": [
      "Database is connected\n",
      "('Production', Decimal('2500.50'))\n",
      "('Research', Decimal('4500.50'))\n",
      "('Development', Decimal('5000.50'))\n"
     ]
    }
   ],
   "source": [
    "max_amount = \"select e_dept,max(amount) from emp_orders group by e_dept\"\n",
    "\n",
    "connection = db_conn(\"127.0.0.1\",\"root\",\"725@Mysql\",\"employee_delhi\")\n",
    "results = read_table(connection , max_amount)\n",
    "for res in results:\n",
    "    print(res)"
   ]
  },
  {
   "cell_type": "code",
   "execution_count": 41,
   "id": "69981ed8-3906-439f-9bb2-258834bc761d",
   "metadata": {},
   "outputs": [
    {
     "name": "stdout",
     "output_type": "stream",
     "text": [
      "Database is connected\n",
      "('Male', Decimal('2500.50'))\n",
      "('Female', Decimal('5000.50'))\n"
     ]
    }
   ],
   "source": [
    "max_amount = \"select e_gender,max(amount) from emp_orders group by e_gender\"\n",
    "\n",
    "connection = db_conn(\"127.0.0.1\",\"root\",\"725@Mysql\",\"employee_delhi\")\n",
    "results = read_table(connection , max_amount)\n",
    "for res in results:\n",
    "    print(res)"
   ]
  },
  {
   "cell_type": "code",
   "execution_count": 42,
   "id": "2fbd18e3-4a10-49d1-b206-5c6b75d15afe",
   "metadata": {},
   "outputs": [
    {
     "name": "stdout",
     "output_type": "stream",
     "text": [
      "Database is connected\n",
      "('Male', 3)\n",
      "('Female', 3)\n"
     ]
    }
   ],
   "source": [
    "count = \"select e_gender,count(*) from emp_orders group by e_gender\"\n",
    "\n",
    "connection = db_conn(\"127.0.0.1\",\"root\",\"725@Mysql\",\"employee_delhi\")\n",
    "results = read_table(connection , count)\n",
    "for res in results:\n",
    "    print(res)"
   ]
  },
  {
   "cell_type": "code",
   "execution_count": 43,
   "id": "2e26c288-7094-454b-894a-44bb242bdba0",
   "metadata": {},
   "outputs": [
    {
     "name": "stdout",
     "output_type": "stream",
     "text": [
      "Database is connected\n",
      "('Production', 2)\n",
      "('Research', 2)\n",
      "('Development', 2)\n"
     ]
    }
   ],
   "source": [
    "count = \"select e_dept,count(*) from emp_orders group by e_dept\"\n",
    "\n",
    "connection = db_conn(\"127.0.0.1\",\"root\",\"725@Mysql\",\"employee_delhi\")\n",
    "results = read_table(connection , count)\n",
    "for res in results:\n",
    "    print(res)"
   ]
  },
  {
   "cell_type": "code",
   "execution_count": 44,
   "id": "a1632cf9-9ff0-464b-8e19-2594f4aa3486",
   "metadata": {},
   "outputs": [
    {
     "name": "stdout",
     "output_type": "stream",
     "text": [
      "Database is connected\n",
      "('Research', 2)\n"
     ]
    }
   ],
   "source": [
    "count = \"select e_dept,count(*) from emp_orders where e_dept = 'Research'\"\n",
    "\n",
    "connection = db_conn(\"127.0.0.1\",\"root\",\"725@Mysql\",\"employee_delhi\")\n",
    "results = read_table(connection , count)\n",
    "for res in results:\n",
    "    print(res)"
   ]
  },
  {
   "cell_type": "code",
   "execution_count": 46,
   "id": "f802e857-5874-42d0-bda1-e3d75ef6872d",
   "metadata": {},
   "outputs": [
    {
     "name": "stdout",
     "output_type": "stream",
     "text": [
      "Database is connected\n",
      "('Production', Decimal('1750.500000'), Decimal('1000.50'), Decimal('2500.50'), Decimal('3501.00'), 2)\n",
      "('Research', Decimal('2700.500000'), Decimal('900.50'), Decimal('4500.50'), Decimal('5401.00'), 2)\n",
      "('Development', Decimal('3600.500000'), Decimal('2200.50'), Decimal('5000.50'), Decimal('7201.00'), 2)\n"
     ]
    }
   ],
   "source": [
    "#'mean','min','max','sum','count'\n",
    "\n",
    "analysis = \"select e_dept, avg(amount),min(amount),max(amount),sum(amount),count(*) from emp_orders group by e_dept\"\n",
    "\n",
    "connection = db_conn(\"127.0.0.1\",\"root\",\"725@Mysql\",\"employee_delhi\")\n",
    "results = read_table(connection , analysis)\n",
    "for res in results:\n",
    "    print(res)"
   ]
  },
  {
   "cell_type": "code",
   "execution_count": 47,
   "id": "9ac6be33-0f4c-4884-9a49-e56f137fefeb",
   "metadata": {},
   "outputs": [
    {
     "name": "stdout",
     "output_type": "stream",
     "text": [
      "Database is connected\n",
      "('john',)\n",
      "('amrita',)\n",
      "('anil',)\n",
      "('sameera',)\n",
      "('ajay',)\n",
      "('jessica',)\n"
     ]
    }
   ],
   "source": [
    "l_case = \"select lower(e_name) from emp_orders\"\n",
    "\n",
    "connection = db_conn(\"127.0.0.1\",\"root\",\"725@Mysql\",\"employee_delhi\")\n",
    "results = read_table(connection , l_case)\n",
    "for res in results:\n",
    "    print(res)"
   ]
  },
  {
   "cell_type": "code",
   "execution_count": 48,
   "id": "deb69f8d-76bc-485c-873e-7ebb7d536809",
   "metadata": {},
   "outputs": [
    {
     "name": "stdout",
     "output_type": "stream",
     "text": [
      "Database is connected\n",
      "('Joh',)\n",
      "('Amr',)\n",
      "('Ani',)\n",
      "('Sam',)\n",
      "('Aja',)\n",
      "('Jes',)\n"
     ]
    }
   ],
   "source": [
    "three_chars = \"select substring(e_name,1,3) from emp_orders\"\n",
    "\n",
    "connection = db_conn(\"127.0.0.1\",\"root\",\"725@Mysql\",\"employee_delhi\")\n",
    "results = read_table(connection , three_chars)\n",
    "for res in results:\n",
    "    print(res)"
   ]
  },
  {
   "cell_type": "code",
   "execution_count": 49,
   "id": "a046275f-2305-41fc-848f-32d829751f41",
   "metadata": {},
   "outputs": [
    {
     "name": "stdout",
     "output_type": "stream",
     "text": [
      "Database is connected\n",
      "(1, 'John', datetime.date(2023, 8, 5), 'Production', 'Male', 2, Decimal('2500.50'), 'B')\n",
      "(2, 'Amrita', datetime.date(2023, 12, 4), 'Research', 'Female', 3, Decimal('4500.50'), 'A')\n",
      "(4, 'Anil', datetime.date(2024, 4, 3), 'Research', 'Male', 1, Decimal('900.50'), 'C')\n",
      "(5, 'Sameera', datetime.date(2024, 1, 5), 'Production', 'Female', 1, Decimal('1000.50'), 'B')\n",
      "(6, 'Ajay', datetime.date(2024, 5, 5), 'Development', 'Male', 2, Decimal('2200.50'), 'B')\n",
      "(7, 'Jessica', datetime.date(2023, 9, 15), 'Development', 'Female', 5, Decimal('5000.50'), 'A')\n"
     ]
    }
   ],
   "source": [
    "case_query = \"\"\"\n",
    "select *,\n",
    "case\n",
    "when amount < 1000 then 'C'\n",
    "when amount < 3000 then 'B'\n",
    "else 'A'\n",
    "end as BAND\n",
    "from emp_orders;\n",
    "\"\"\"\n",
    "\n",
    "connection = db_conn(\"127.0.0.1\",\"root\",\"725@Mysql\",\"employee_delhi\")\n",
    "results = read_table(connection , case_query)\n",
    "for res in results:\n",
    "    print(res)"
   ]
  },
  {
   "cell_type": "markdown",
   "id": "6851531f-ee5b-4699-b783-adc23b8e2e2a",
   "metadata": {},
   "source": [
    "**having vs wher"
   ]
  }
 ],
 "metadata": {
  "kernelspec": {
   "display_name": "Python 3 (ipykernel)",
   "language": "python",
   "name": "python3"
  },
  "language_info": {
   "codemirror_mode": {
    "name": "ipython",
    "version": 3
   },
   "file_extension": ".py",
   "mimetype": "text/x-python",
   "name": "python",
   "nbconvert_exporter": "python",
   "pygments_lexer": "ipython3",
   "version": "3.9.0"
  }
 },
 "nbformat": 4,
 "nbformat_minor": 5
}
